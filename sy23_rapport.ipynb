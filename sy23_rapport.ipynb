{
 "cells": [
  {
   "cell_type": "markdown",
   "metadata": {
    "collapsed": true
   },
   "source": [
    "# Rapport SY23 - Prix d'hotels\n",
    "\n",
    "## 1 - Introduction\n",
    "\n",
    "Le projet consiste en l’étude d’un jeu de données de différents hôtels. En effet, plusieurs plaintes ont été reçues par la répression des fraudes d’un pays imaginaires. Ces plaintes ne concernent exclusivement des consommateurs basés en Europe et ayant réalisé des réservations dans des villes Européennes. L’organisme de répression des fraudes informe qu'elle souhaite concentrer les recherches sur 9 villes car, selon leurs experts métier, elles sont révélatrices du marché de l'hôtellerie en Europe.\n",
    "Afin de pouvoir tester nos différents modèle, une API sera utilisée. Celle-ci permettra via la création d’avatars de pouvoir simuler des recherches d’hôtels d’après plusieurs paramètres (utilisation du téléphone, nationalité de l’avatar, destination et la durée entre le moment de réservation et le début de séjour).  Les requêtes réalisées au moyen de l’API permettront de ressortir une liste d’hôtel avec l’id de celui-ci, son prix et le nombre de chambre disponible.\n",
    "\n",
    "## 2 - Recuperation des données\n",
    "\n",
    "### 2.1 - \n",
    "\n",
    "## 3 - Préparation des données\n",
    "## 4 - Les modèles\n",
    "## 5 - Conclusion"
   ]
  },
  {
   "cell_type": "markdown",
   "metadata": {},
   "source": [
    "## 2 - Recuperation des données"
   ]
  },
  {
   "cell_type": "markdown",
   "metadata": {},
   "source": [
    "### 2.1 - Explication de l'API\n",
    "\n"
   ]
  },
  {
   "cell_type": "markdown",
   "metadata": {},
   "source": [
    "## 4 - Les modèles"
   ]
  },
  {
   "cell_type": "markdown",
   "metadata": {},
   "source": [
    "### 4.1 - Modele pytorch"
   ]
  },
  {
   "cell_type": "code",
   "execution_count": 4,
   "metadata": {},
   "outputs": [
    {
     "name": "stdout",
     "output_type": "stream",
     "text": [
      "cpu\n",
      "Epoch 0 - Training Loss : 4546.249060908093 - Validation loss : 506.23138759847274 - RMSE : 22.5\n",
      "Epoch 1 - Training Loss : 371.3495426507282 - Validation loss : 312.0027065779033 - RMSE : 17.664\n",
      "Epoch 2 - Training Loss : 292.7984399385209 - Validation loss : 276.63605915454394 - RMSE : 16.632\n",
      "Epoch 3 - Training Loss : 266.7009516585589 - Validation loss : 259.42492536076327 - RMSE : 16.107\n",
      "Epoch 4 - Training Loss : 251.75957098605699 - Validation loss : 247.18782178142615 - RMSE : 15.722\n",
      "Epoch 5 - Training Loss : 242.41231743647126 - Validation loss : 238.91237926483154 - RMSE : 15.457\n",
      "Epoch 6 - Training Loss : 236.07920326040554 - Validation loss : 242.67234360544305 - RMSE : 15.578\n",
      "Epoch 7 - Training Loss : 231.3194854058903 - Validation loss : 230.06235935395225 - RMSE : 15.168\n",
      "Epoch 8 - Training Loss : 227.8566288324734 - Validation loss : 226.9035114907382 - RMSE : 15.063\n",
      "Epoch 9 - Training Loss : 224.6452979456075 - Validation loss : 224.70394674518653 - RMSE : 14.99\n"
     ]
    },
    {
     "data": {
      "image/png": "[encoded data removed]",
      "text/plain": [
       "<Figure size 640x480 with 1 Axes>"
      ]
     },
     "metadata": {},
     "output_type": "display_data"
    }
   ],
   "source": [
    "import torch\n",
    "from datascience.model import DeepLearningModel\n",
    "from torch.nn import Linear, MSELoss, Module, Dropout, BatchNorm1d\n",
    "from torch import flatten\n",
    "from torch.nn.functional import relu, sigmoid, tanh\n",
    "import warnings\n",
    "import matplotlib.pyplot as plt\n",
    "%matplotlib inline\n",
    "\n",
    "warnings.filterwarnings(\"ignore\")\n",
    "\n",
    "\n",
    "class NNModel(Module):\n",
    "    def __init__(self):\n",
    "        super().__init__()\n",
    "        self.input = Linear(109, 109)\n",
    "        self.output = Linear(109, 1)\n",
    "        self.dropout = Dropout(0.2)\n",
    "\n",
    "    def forward(self, x):\n",
    "        x = tanh(self.input(x))\n",
    "        return self.output(x)\n",
    "\n",
    "    def load(self, model_path):\n",
    "        self.load_state_dict(torch.load(model_path))\n",
    "        self.eval()\n",
    "\n",
    "\n",
    "epochs=10\n",
    "model = NNModel()\n",
    "nn = DeepLearningModel(model)\n",
    "loss_values, val_loss_values = nn.train(epochs=epochs, learning_rate=0.001, batch_size=16, show=True)\n",
    "x = list(range(1, epochs + 1))\n",
    "plt.plot(x, loss_values, color='b', label='train')\n",
    "plt.plot(x, val_loss_values, color='r', label='validation')\n",
    "plt.xlabel(\"Epoch\")\n",
    "plt.ylabel(\"Loss\")\n",
    "plt.legend()\n",
    "plt.show()"
   ]
  },
  {
   "cell_type": "code",
   "execution_count": null,
   "metadata": {},
   "outputs": [],
   "source": []
  }
 ],
 "metadata": {
  "kernelspec": {
   "display_name": "Python 3 (ipykernel)",
   "language": "python",
   "name": "python3"
  },
  "language_info": {
   "codemirror_mode": {
    "name": "ipython",
    "version": 3
   },
   "file_extension": ".py",
   "mimetype": "text/x-python",
   "name": "python",
   "nbconvert_exporter": "python",
   "pygments_lexer": "ipython3",
   "version": "3.10.2"
  }
 },
 "nbformat": 4,
 "nbformat_minor": 1
}