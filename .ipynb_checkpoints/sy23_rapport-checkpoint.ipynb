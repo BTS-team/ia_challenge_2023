{
 "cells": [
  {
   "cell_type": "code",
   "execution_count": 50,
   "metadata": {
    "pycharm": {
     "is_executing": true
    }
   },
   "outputs": [],
   "source": [
    "import pandas as pd\n",
    "import pprint\n",
    "import numpy as np\n",
    "import seedir as sd\n",
    "\n",
    "import torch\n",
    "from torch.utils.data import Dataset, DataLoader\n",
    "from torch.nn.functional import tanh\n",
    "from torch.nn.functional import one_hot\n",
    "\n",
    "\n",
    "from datascience.utils import apply, language, city, brand, group, get_folder\n",
    "from datascience.utils import NotSupportedDataTypeError, NotEqualDataTypeError\n",
    "from datascience.data_loading import load_dataset, load_test_set, one_hot_encoding\n",
    "from datascience.data_loading.load_dataset import assert_equal, assert_argument\n",
    "from datascience.model import DeepLearningModel, MLModel\n",
    "\n",
    "from sklearn import linear_model\n",
    "from sklearn.metrics import mean_squared_error\n",
    "from sklearn.preprocessing import PolynomialFeatures\n",
    "\n",
    "import warnings\n",
    "import matplotlib.pyplot as plt\n",
    "import matplotlib.image as img\n",
    "%matplotlib inline\n",
    "warnings.filterwarnings(\"ignore\")"
   ]
  },
  {
   "cell_type": "markdown",
   "metadata": {
    "collapsed": true
   },
   "source": [
    "# Rapport SY23 - Prix d'hotels\n",
    "\n",
    "## 1 - Introduction\n",
    "\n",
    "Le projet consiste en l’étude d’un jeu de données de différents hôtels. En effet, plusieurs plaintes ont été reçues par la répression des fraudes d’un pays imaginaires. Ces plaintes ne concernent exclusivement des consommateurs basés en Europe et ayant réalisé des réservations dans des villes Européennes. L’organisme de répression des fraudes informe qu'elle souhaite concentrer les recherches sur 9 villes car, selon leurs experts métier, elles sont révélatrices du marché de l'hôtellerie en Europe.\n",
    "Afin de pouvoir tester nos différents modèle, une API sera utilisée. Celle-ci permettra via la création d’avatars de pouvoir simuler des recherches d’hôtels d’après plusieurs paramètres (utilisation du téléphone, nationalité de l’avatar, destination et la durée entre le moment de réservation et le début de séjour).  Les requêtes réalisées au moyen de l’API permettront de ressortir une liste d’hôtel avec l’id de celui-ci, son prix et le nombre de chambre disponible.\n"
   ]
  },
  {
   "cell_type": "markdown",
   "metadata": {},
   "source": [
    "## 2 - Architecture logicielle"
   ]
  },
  {
   "cell_type": "markdown",
   "metadata": {},
   "source": [
    "### 2.1 - Architecture de fichiers\n",
    "\n",
    "Lors de la réalisation de ce projet, nous avons dévelopé un package Python nommé \"datascience\" qui contient l'ensemble des fonctions et classes dont nous avons besoin pour récupérer les données, traiter les données, créer des modèles de Deep learning, les entrainer et les tester. Ce package est lui-même divisé en 5 sous-parties :\n",
    "\n",
    "1. data_loading: Ce package sert à charger les données pour pouvoir les utiliser dans les modèles\n",
    "2. data_recovery: Ce package sert à générer des requetes API pour pouvoir construire un jeu de données\n",
    "3. model: Ce package fournit des classes abstraites pour pouvoir définir des modèles de Machine Learning\n",
    "4. utils: Ce package fournit des outils et données utilisables dans les autres packages\n",
    "5. visualisation: Ce package fournit des fonctions pour pouvoir visualiser le dataset (histogrames)\n",
    "\n",
    "L'architecture complete du package est disponible via le bloc de code ci-dessous."
   ]
  },
  {
   "cell_type": "code",
   "execution_count": null,
   "metadata": {
    "pycharm": {
     "is_executing": true
    }
   },
   "outputs": [],
   "source": [
    "sd.seedir('./datascience', exclude_folders=['__pycache__'], style='emoji')"
   ]
  },
  {
   "cell_type": "markdown",
   "metadata": {},
   "source": [
    "### 2.2 - Architecture des classes\n",
    "\n",
    "Pour mener à bien l'ensemble des tâches nécessaires afin de développer des modèles, nous avons implémenté un certain nombre de classes. Les diagrammes de classes ci-dessous montrent les relations entre les classes. \n",
    "\n",
    "1. La classe Connector:\n",
    "\n",
    "![Connector](./img/inria_classe_connector.png)\n",
    "\n",
    "2. La classe CustomDataset:\n",
    "\n",
    "![CustomDataset](./img/inria_classe_load_DataSet.png)\n",
    "\n",
    "3. La classe Data:\n",
    "\n",
    "![ConDatanector](./img/inria_classe_torch_dataset.png)\n",
    "\n",
    "3. Les classes de modèle:\n",
    "\n",
    "![Model](./img/inria_classe-MLmodel.drawio.png)\n",
    "\n",
    "\n",
    "Ces classes permettent de réaliser l'ensemble des actions pour pouvoir définir et entrainer des modèles de Machine Learning. Cf les parties \"Récuperations des données\", \"Préparation des données\", \"Chargement des données\" et \"Modèles\" pour voir leurs utilisations.\n"
   ]
  },
  {
   "cell_type": "markdown",
   "metadata": {},
   "source": [
    "## 3 - Recuperation des données"
   ]
  },
  {
   "cell_type": "markdown",
   "metadata": {},
   "source": [
    "### 3.1 - Explication de l'API\n",
    "\n",
    "L'API mise à disposition par l'INRIA permet de récupérer des informations sur les hôtels et leurs prix. Les requêtes effectuées vers cette API peuvent contenir les arguments suivants:\n",
    "\n",
    "- city : Nom de la ville où effectuer la recherche d’hôtels. Valeurs : ‘amsterdam’, ‘copenhagen’, ‘madrid’, ‘paris’, ‘rome’, ‘sofia’, ‘valletta’, ‘vienna’ et ‘vilnius’.\n",
    "- date : Nombre de jours entre la date de la requête et le jour requêté (i.e. le nombre de jour entre le moment où vous regardez sur le site et le jour du check-in). Valeurs : Nombres positifs (entre 44 et 0).\n",
    "- language : Langue de l’interface. Valeurs : ‘austrian’, ‘belgian’, ‘bulgarian’, ‘croatian’, ‘cypriot’, ‘czech’, ‘danish’, ‘dutch’, ‘estonian’, ‘finnish’, ‘french’, ‘german’, ‘greek’, ‘hungarian’, ‘irish’, ‘italian’, ‘latvian’, ‘lithuanian’, ‘luxembourgish’, ‘maltese’, ‘polish’, ‘portuguese’, ‘romanian’, ‘slovakian’, ‘slovene’, ‘spanish’ or ‘swedish’.\n",
    "- mobile : Paramètre permettant de simuler une requête réalisée depuis un téléphone portable (au lieu d’un ordinateur). Valeurs : 1 (téléphone) ou 0 (ordinateur).\n",
    "- avatar : Identifiant d’un utilisateur fictif (e.g. un faux compte client créé).\n",
    "\n",
    "Nous avons implémenté un module api_connector pour assurer la communication avec l'API. Ce module contient la classe Connector. \n",
    "Cette classe est instanciée par un constructeur qui prend en argument une clé API unique obtenue auprès des organisateurs.\n",
    "\n",
    "La classe contient les methodes suivantes:\n",
    "- create_avatar : Méthode statique qui fait un appel \"POST\" à l'API pour créer un nouvel utilisateur fictif (autrement dit avatar).\n",
    "- get_avatar: Méthode statique qui fait un appel \"GET\" à l'API et retourne la liste d’avatars déjà disponibles avec leur ids et noms.\n",
    "- query: Méthode statique qui prend en parametre les critères d'une recherche d'un hôtel et qui réalise un appel \"GET\" à l'API qui retourne: la liste des hôtels répondants aux critères demandés (identifiant de l'hôtel, prix, nombre de chambres restantes).\n",
    "\n",
    "Il est important de souligner que une clef API ne peut effectuer que 1000 requêtes par semaine."
   ]
  },
  {
   "cell_type": "markdown",
   "metadata": {},
   "source": [
    "### 3.2 - Réalisation et stockage des requêtes API:\n",
    "\n",
    "Pour pouvoir choisir au mieux les requêtes à effectuer parmi l'ensemble de toutes les requêtes possibles, nous avons implémenté les fonctions suivantes dans le module utils:\n",
    "\n",
    "Génération d'une liste stockant toutes les combinaisons de paramètres (ville, date, langue, mobile) possibles avec l'API  (9\\*45\\*27\\*2 = 21870 requêtes possibles). Ces requêtes sont stockées dans un fichier possible_api_requests.csv. Un parametre \"used\" indique pour chaque requête si elle est déjà utilisée. La fonction qui génère ce fichier s'appelle generate_api_requests et n'a été utilisée qu'une seule fois."
   ]
  },
  {
   "cell_type": "code",
   "execution_count": null,
   "metadata": {
    "pycharm": {
     "is_executing": true
    }
   },
   "outputs": [],
   "source": [
    "from datascience.utils.data import language, city\n",
    "api_requests = []\n",
    "for c in city:\n",
    "    for l in language:\n",
    "        for i in range(45):\n",
    "            api_requests.append([c, l, i, 0, 0])\n",
    "            api_requests.append([c, l, i, 1, 0])\n",
    "print(\"10 premiers éléments de la liste:\\n\")\n",
    "pprint.pprint(api_requests[:10])\n",
    "print(f\"\\nLongueur de api_requests => {len(api_requests)}\")"
   ]
  },
  {
   "cell_type": "markdown",
   "metadata": {},
   "source": [
    "A partir d'un fichier répertoriant les hôtels de chaque ville (métadonnées fournies par les organisateurs), nous avons décidé que la répartition de nos requêtes entre les villes doit reflèter la répartition des hôtels entre villes. Par exemple, une ville ayant 35% des hôtels, devra avoir 35% des requêtes. Pour cela, nous avons créé un histogramme permettant de visualiser le nombre d'hôtels par ville (la fonction get_distribution) et un pour visualiser le nombre de requêtes à faire par ville (generate_histo)."
   ]
  },
  {
   "cell_type": "code",
   "execution_count": null,
   "metadata": {
    "pycharm": {
     "is_executing": true
    }
   },
   "outputs": [],
   "source": [
    "# Ce bloc de code affiche la repartition des hôtels parmi les villes.\n",
    "\n",
    "hotels = pd.read_csv('./meta_data/features_hotels.csv')\n",
    "city = hotels[\"city\"].to_numpy()\n",
    "keys = set(city.tolist())\n",
    "total_hotel = len(city)\n",
    "histo = {}\n",
    "\n",
    "\n",
    "for i in keys:\n",
    "    nb_hotel = len(list(filter(lambda x: x == i, city)))\n",
    "    pourcentage = nb_hotel / total_hotel * 100\n",
    "    histo[i] = pourcentage\n",
    "    \n",
    "l = range(len(histo.keys()))\n",
    "plt.bar(l, histo.values(), align='center')\n",
    "plt.xticks(l, histo.keys(),rotation = -25)\n",
    "plt.xlabel(\"City Name\")\n",
    "plt.ylabel(\"Hotel distribution in percent\")\n",
    "plt.show()"
   ]
  },
  {
   "cell_type": "code",
   "execution_count": null,
   "metadata": {
    "pycharm": {
     "is_executing": true
    }
   },
   "outputs": [],
   "source": [
    "# Ce bloc de code affiche la repartition des requêtes parmi les villes\n",
    "\n",
    "\n",
    "generated_r = pd.read_csv(\"./meta_data/generated_requests.csv\")['city']\n",
    "histo = {}\n",
    "\n",
    "for i in generated_r.to_list():\n",
    "    if i in histo.keys():\n",
    "        histo[i] += 1\n",
    "    else:\n",
    "        histo[i] = 1\n",
    "total = sum(histo.values())\n",
    "data = {'City name': histo.keys(), 'Number of requests': histo.values()}\n",
    "distribution = pd.DataFrame.from_dict(data)\n",
    "distribution['Percentage'] = distribution['Number of requests'] / total\n",
    "distribution"
   ]
  },
  {
   "cell_type": "markdown",
   "metadata": {},
   "source": [
    "La réalisation des requêtes est réalisé via le module recovery.py du package data_recovery qui contient les fonctions suivantes :\n",
    "- ```update_dataset()```: Ajoute les réponses d'une requête  au jeu de données.\n",
    "\n",
    "- ```request()```: Cette fonction prend une requête en paramètre et l'execute via la méthode ```query()```. Elle utilise ensuite la fonction ```update_dataset``` pour enregistre le résultat de la requête dans le dataset. Enfin elle modifie les fichiers de métadonnées dans le but de suivre l'évolution des requêtes faites à l'API (par exemple, la mise à jour du paramètre \"used\").\n",
    "\n",
    "- ```take_n_requests()```: Génère aléatoirement les paramètres pour n requêtes en suivant la distribution des requêtes sur les villes.\n",
    "\n",
    "- ```assigning_avatar()```: Crée et affecte un certain nombre d'avatars d'utilisateurs fictifs aux requêtes précedement crées.\n",
    "\n",
    "- ```making_n_requests()```: Appelle l'ensemble des fonctions vues précedement pour effectuer n requêtes.\n",
    "\n",
    "Voici ci dessous l'architecture du jeu de données:\n"
   ]
  },
  {
   "cell_type": "code",
   "execution_count": null,
   "metadata": {
    "pycharm": {
     "is_executing": true
    }
   },
   "outputs": [],
   "source": [
    "sd.seedir('./dataset', depthlimit=2, itemlimit=3, style='emoji')"
   ]
  },
  {
   "cell_type": "code",
   "execution_count": null,
   "metadata": {
    "pycharm": {
     "is_executing": true
    }
   },
   "outputs": [],
   "source": [
    "file = \"./dataset/amsterdam/amsterdam_austrian.csv\"\n",
    "df = pd.read_csv(file)\n",
    "pd.options.display.max_columns = len(df.columns)\n",
    "df"
   ]
  },
  {
   "cell_type": "markdown",
   "metadata": {},
   "source": [
    "### 3.3 - Préparation des données\n",
    "\n",
    "Pour preparer les donnees de l'entrainnement et de test de nos modeles, plusieurs implementation ont ete realises:\n",
    "- La classe CustomDatset dans le module load__dataset.py du package data_loading: Une instance de type CustomDataset est instanciée en lui fournissant la matrice x de features indépendantes et le vecteur dépendant y. La classe contient plusieurs méthodes statiques pour gérer les types de ces matrices ainsi qu'une méthode split qui divise le jeu de données en 2: dataset et testset.\n",
    "- La fonction apply() du module utils vise à transformer des features qualitatives en features quantitatives. Pour cela nous associons un identifiant numérique unique à chaque ville, à chaque langue, à chaque marque et à chaque groupe. La marque et le groupe de l'hôtel sont des features que nous avons ajoutées à notre jeu de données en consultant d'autres fichiers fournis par les organisateurs."
   ]
  },
  {
   "cell_type": "code",
   "execution_count": null,
   "metadata": {
    "pycharm": {
     "is_executing": true
    }
   },
   "outputs": [],
   "source": [
    "pprint.pprint(language)"
   ]
  },
  {
   "cell_type": "markdown",
   "metadata": {},
   "source": [
    "- La fonction one_hot_encoding() dans le module datascience.data_loading.torch_dataloader vise à encoder les colonnes catégorielles pour arriver a des resultat moins biaisee. L'idée est d'avoir un nombre binaire unique (o ou 1) pour chaque catégorie. Par conséquent, le nombre de chiffres est le nombre de catégories pour l'attribut catégoriel à encoder.\n",
    "- Finalement, La fonction load_dataset() du module load_dataset.py du package data_loading prend comme paramètres le dossier de jeu de données récupéré depuis l'API et le fichier de features supplémentaires, elle les joint et renvoie un objet de type CustomDataset."
   ]
  },
  {
   "cell_type": "code",
   "execution_count": 51,
   "metadata": {
    "pycharm": {
     "is_executing": true
    }
   },
   "outputs": [
    {
     "data": {
      "text/html": [
       "<div>\n",
       "<style scoped>\n",
       "    .dataframe tbody tr th:only-of-type {\n",
       "        vertical-align: middle;\n",
       "    }\n",
       "\n",
       "    .dataframe tbody tr th {\n",
       "        vertical-align: top;\n",
       "    }\n",
       "\n",
       "    .dataframe thead th {\n",
       "        text-align: right;\n",
       "    }\n",
       "</style>\n",
       "<table border=\"1\" class=\"dataframe\">\n",
       "  <thead>\n",
       "    <tr style=\"text-align: right;\">\n",
       "      <th></th>\n",
       "      <th>city</th>\n",
       "      <th>date</th>\n",
       "      <th>language</th>\n",
       "      <th>mobile</th>\n",
       "      <th>stock</th>\n",
       "      <th>group</th>\n",
       "      <th>brand</th>\n",
       "      <th>parking</th>\n",
       "      <th>pool</th>\n",
       "      <th>children_policy</th>\n",
       "      <th>order_requests</th>\n",
       "    </tr>\n",
       "  </thead>\n",
       "  <tbody>\n",
       "    <tr>\n",
       "      <th>0</th>\n",
       "      <td>0</td>\n",
       "      <td>6</td>\n",
       "      <td>8</td>\n",
       "      <td>0</td>\n",
       "      <td>0</td>\n",
       "      <td>0</td>\n",
       "      <td>0</td>\n",
       "      <td>0</td>\n",
       "      <td>0</td>\n",
       "      <td>0</td>\n",
       "      <td>3</td>\n",
       "    </tr>\n",
       "    <tr>\n",
       "      <th>1</th>\n",
       "      <td>8</td>\n",
       "      <td>20</td>\n",
       "      <td>24</td>\n",
       "      <td>0</td>\n",
       "      <td>22</td>\n",
       "      <td>1</td>\n",
       "      <td>1</td>\n",
       "      <td>1</td>\n",
       "      <td>0</td>\n",
       "      <td>0</td>\n",
       "      <td>1</td>\n",
       "    </tr>\n",
       "    <tr>\n",
       "      <th>2</th>\n",
       "      <td>1</td>\n",
       "      <td>29</td>\n",
       "      <td>19</td>\n",
       "      <td>0</td>\n",
       "      <td>34</td>\n",
       "      <td>0</td>\n",
       "      <td>0</td>\n",
       "      <td>1</td>\n",
       "      <td>0</td>\n",
       "      <td>0</td>\n",
       "      <td>1</td>\n",
       "    </tr>\n",
       "    <tr>\n",
       "      <th>3</th>\n",
       "      <td>3</td>\n",
       "      <td>0</td>\n",
       "      <td>4</td>\n",
       "      <td>0</td>\n",
       "      <td>0</td>\n",
       "      <td>2</td>\n",
       "      <td>2</td>\n",
       "      <td>0</td>\n",
       "      <td>0</td>\n",
       "      <td>1</td>\n",
       "      <td>5</td>\n",
       "    </tr>\n",
       "    <tr>\n",
       "      <th>4</th>\n",
       "      <td>4</td>\n",
       "      <td>7</td>\n",
       "      <td>21</td>\n",
       "      <td>0</td>\n",
       "      <td>0</td>\n",
       "      <td>0</td>\n",
       "      <td>0</td>\n",
       "      <td>0</td>\n",
       "      <td>1</td>\n",
       "      <td>0</td>\n",
       "      <td>1</td>\n",
       "    </tr>\n",
       "    <tr>\n",
       "      <th>...</th>\n",
       "      <td>...</td>\n",
       "      <td>...</td>\n",
       "      <td>...</td>\n",
       "      <td>...</td>\n",
       "      <td>...</td>\n",
       "      <td>...</td>\n",
       "      <td>...</td>\n",
       "      <td>...</td>\n",
       "      <td>...</td>\n",
       "      <td>...</td>\n",
       "      <td>...</td>\n",
       "    </tr>\n",
       "    <tr>\n",
       "      <th>696674</th>\n",
       "      <td>6</td>\n",
       "      <td>22</td>\n",
       "      <td>24</td>\n",
       "      <td>1</td>\n",
       "      <td>32</td>\n",
       "      <td>2</td>\n",
       "      <td>13</td>\n",
       "      <td>0</td>\n",
       "      <td>0</td>\n",
       "      <td>0</td>\n",
       "      <td>2</td>\n",
       "    </tr>\n",
       "    <tr>\n",
       "      <th>696675</th>\n",
       "      <td>8</td>\n",
       "      <td>30</td>\n",
       "      <td>9</td>\n",
       "      <td>1</td>\n",
       "      <td>50</td>\n",
       "      <td>2</td>\n",
       "      <td>13</td>\n",
       "      <td>1</td>\n",
       "      <td>0</td>\n",
       "      <td>0</td>\n",
       "      <td>1</td>\n",
       "    </tr>\n",
       "    <tr>\n",
       "      <th>696676</th>\n",
       "      <td>0</td>\n",
       "      <td>2</td>\n",
       "      <td>21</td>\n",
       "      <td>1</td>\n",
       "      <td>0</td>\n",
       "      <td>3</td>\n",
       "      <td>3</td>\n",
       "      <td>1</td>\n",
       "      <td>0</td>\n",
       "      <td>0</td>\n",
       "      <td>2</td>\n",
       "    </tr>\n",
       "    <tr>\n",
       "      <th>696677</th>\n",
       "      <td>0</td>\n",
       "      <td>2</td>\n",
       "      <td>11</td>\n",
       "      <td>1</td>\n",
       "      <td>2</td>\n",
       "      <td>4</td>\n",
       "      <td>5</td>\n",
       "      <td>0</td>\n",
       "      <td>1</td>\n",
       "      <td>0</td>\n",
       "      <td>4</td>\n",
       "    </tr>\n",
       "    <tr>\n",
       "      <th>696678</th>\n",
       "      <td>3</td>\n",
       "      <td>32</td>\n",
       "      <td>0</td>\n",
       "      <td>0</td>\n",
       "      <td>70</td>\n",
       "      <td>2</td>\n",
       "      <td>13</td>\n",
       "      <td>0</td>\n",
       "      <td>0</td>\n",
       "      <td>0</td>\n",
       "      <td>2</td>\n",
       "    </tr>\n",
       "  </tbody>\n",
       "</table>\n",
       "<p>696679 rows × 11 columns</p>\n",
       "</div>"
      ],
      "text/plain": [
       "        city  date  language  mobile  stock  group  brand  parking  pool  \\\n",
       "0          0     6         8       0      0      0      0        0     0   \n",
       "1          8    20        24       0     22      1      1        1     0   \n",
       "2          1    29        19       0     34      0      0        1     0   \n",
       "3          3     0         4       0      0      2      2        0     0   \n",
       "4          4     7        21       0      0      0      0        0     1   \n",
       "...      ...   ...       ...     ...    ...    ...    ...      ...   ...   \n",
       "696674     6    22        24       1     32      2     13        0     0   \n",
       "696675     8    30         9       1     50      2     13        1     0   \n",
       "696676     0     2        21       1      0      3      3        1     0   \n",
       "696677     0     2        11       1      2      4      5        0     1   \n",
       "696678     3    32         0       0     70      2     13        0     0   \n",
       "\n",
       "        children_policy  order_requests  \n",
       "0                     0               3  \n",
       "1                     0               1  \n",
       "2                     0               1  \n",
       "3                     1               5  \n",
       "4                     0               1  \n",
       "...                 ...             ...  \n",
       "696674                0               2  \n",
       "696675                0               1  \n",
       "696676                0               2  \n",
       "696677                0               4  \n",
       "696678                0               2  \n",
       "\n",
       "[696679 rows x 11 columns]"
      ]
     },
     "execution_count": 51,
     "metadata": {},
     "output_type": "execute_result"
    }
   ],
   "source": [
    "dataset = load_dataset('./dataset','./meta_data/features_hotels.csv', dtype=\"pandas\")\n",
    "dataset.x"
   ]
  },
  {
   "cell_type": "code",
   "execution_count": 52,
   "metadata": {
    "pycharm": {
     "is_executing": true
    }
   },
   "outputs": [
    {
     "data": {
      "text/html": [
       "<div>\n",
       "<style scoped>\n",
       "    .dataframe tbody tr th:only-of-type {\n",
       "        vertical-align: middle;\n",
       "    }\n",
       "\n",
       "    .dataframe tbody tr th {\n",
       "        vertical-align: top;\n",
       "    }\n",
       "\n",
       "    .dataframe thead th {\n",
       "        text-align: right;\n",
       "    }\n",
       "</style>\n",
       "<table border=\"1\" class=\"dataframe\">\n",
       "  <thead>\n",
       "    <tr style=\"text-align: right;\">\n",
       "      <th></th>\n",
       "      <th>price</th>\n",
       "    </tr>\n",
       "  </thead>\n",
       "  <tbody>\n",
       "    <tr>\n",
       "      <th>0</th>\n",
       "      <td>108</td>\n",
       "    </tr>\n",
       "    <tr>\n",
       "      <th>1</th>\n",
       "      <td>155</td>\n",
       "    </tr>\n",
       "    <tr>\n",
       "      <th>2</th>\n",
       "      <td>101</td>\n",
       "    </tr>\n",
       "    <tr>\n",
       "      <th>3</th>\n",
       "      <td>211</td>\n",
       "    </tr>\n",
       "    <tr>\n",
       "      <th>4</th>\n",
       "      <td>107</td>\n",
       "    </tr>\n",
       "    <tr>\n",
       "      <th>...</th>\n",
       "      <td>...</td>\n",
       "    </tr>\n",
       "    <tr>\n",
       "      <th>696674</th>\n",
       "      <td>137</td>\n",
       "    </tr>\n",
       "    <tr>\n",
       "      <th>696675</th>\n",
       "      <td>105</td>\n",
       "    </tr>\n",
       "    <tr>\n",
       "      <th>696676</th>\n",
       "      <td>184</td>\n",
       "    </tr>\n",
       "    <tr>\n",
       "      <th>696677</th>\n",
       "      <td>330</td>\n",
       "    </tr>\n",
       "    <tr>\n",
       "      <th>696678</th>\n",
       "      <td>160</td>\n",
       "    </tr>\n",
       "  </tbody>\n",
       "</table>\n",
       "<p>696679 rows × 1 columns</p>\n",
       "</div>"
      ],
      "text/plain": [
       "       price\n",
       "0        108\n",
       "1        155\n",
       "2        101\n",
       "3        211\n",
       "4        107\n",
       "...      ...\n",
       "696674   137\n",
       "696675   105\n",
       "696676   184\n",
       "696677   330\n",
       "696678   160\n",
       "\n",
       "[696679 rows x 1 columns]"
      ]
     },
     "execution_count": 52,
     "metadata": {},
     "output_type": "execute_result"
    }
   ],
   "source": [
    "dataset.y"
   ]
  },
  {
   "cell_type": "code",
   "execution_count": null,
   "metadata": {
    "pycharm": {
     "is_executing": true
    }
   },
   "outputs": [],
   "source": [
    "one_hot_encoding(dataset.x) # dataset.x est la matrice des features indépendantes\n",
    "# Après le one_hot_encoding : explosion du nombre de features (109 au lieu de 11)"
   ]
  },
  {
   "cell_type": "markdown",
   "metadata": {},
   "source": [
    "<div style=\"text-align: justify\"> \n",
    "\n",
    "\n",
    "### 4 - Chargement des données\n",
    "Dans cette partie, nous expliquerons comment ont été chargées les données afin d’être exploiter au mieux par les différents modèles de machine learning (Régression simple, Ridge, Lasso) et deep learning( Deux réseaux de neurones from scratch, un modèle exécuté avec pytorch).\n",
    "\n",
    "#### 4.1 - Module Load_dataset\n",
    "\n",
    "Dans un premier temps, l’enjeux était de créer des classes et fonctions permettant de gérer différents types de dataset et d’unifier les données. L'objectif était d’associer les données générer par les requêtes avec le fichier détaillant les hotels_features.\n",
    "Ainsi, nous avons créé un module ```load_dataset```, qui sera utile afin de générer les datasets pour les algorithmes de machine learning énumérés précedemment. \n",
    "\n",
    "Ce module regroupe les fonctions suivantes:\n",
    "\n",
    "-\tFonction **```assert_equal(x,y)```**, permettant de vérifier si x et y sont du même type,\n",
    "-\tFonction **```assert_argument(x)```**, permettant de vérifier que le dataset x est soit un numpy array soit un dataframe pandas,\n",
    "-\tClasse **```CustomDataset```**, se composant de:\n",
    "                             - Un constructeur permettant de vérifier la nature des données grâce aux deux fonctions                                                                              décrient précedemment,\n",
    "                             - Une méthode permettant de diviser les sets X et y en training et test sets,\n",
    "                             - Une méthode onction permettant de convertir les dataframes pandas en numpy array.\n",
    "                             \n",
    "-\tFonction **```load_dataset(dataset_path, features_hotels, dtype=\"numpy\")```**, qui prend en input le chemin du dataset issue des requêtes, le chemin du dataset avec les features d’hôtels. Cette fonction permettra de concatener le dataset des requêtes avec celui des caractéristiques des hôtels.\n",
    "\n",
    "Ainsi, fonction ```load_dataset``` permettra d’avoir donc deux datasets un pour les features :\n",
    "-\tCity,\n",
    "-\tdate,\n",
    "-\tlanguage,\n",
    "-\tmobile,\n",
    "-\tstock,\n",
    "-\tgroup,\n",
    "-\tbrand,\n",
    "-\tparking,\n",
    "-\tpool,\n",
    "-\tchildren_policy,\n",
    "-\torder_requests\n",
    "\n",
    "Et un dataset Y avec les prix associés afin de pouvoir effectuer les algorithmes de regression comme vu ci-après:\n",
    "</div>"
   ]
  },
  {
   "cell_type": "code",
   "execution_count": 53,
   "metadata": {},
   "outputs": [],
   "source": [
    "class CustomDataset:\n",
    "    \"\"\" A class to handle dataset using numpy array or pandas Dataframe\n",
    "\n",
    "    :param x: The features of the dataset\n",
    "    :param y: The output\n",
    "    \"\"\"\n",
    "\n",
    "    def __init__(self, x, y):\n",
    "        assert_equal(x, y)\n",
    "        assert_argument(x)\n",
    "        assert_argument(y)\n",
    "        self.x = x\n",
    "        self.y = y\n",
    "\n",
    "    def getsize(self):\n",
    "        \"\"\" Calculate the length of the data set\n",
    "\n",
    "        :return: The length\n",
    "        :rtype: int\n",
    "        \"\"\"\n",
    "        return self.x.shape[0]\n",
    "\n",
    "    def split(self, dist=[0.8, 0.2]):\n",
    "        \"\"\" Split the data set in multiple subset\n",
    "\n",
    "        If n is the number of subset, the list dist should contain n-1 values\n",
    "\n",
    "        :param dist: A list containg the size of output subset\n",
    "        :return: A tuple containing all subset\n",
    "        \"\"\"\n",
    "        dist = list(map(lambda x: int(self.getsize() * x), dist))\n",
    "        for i in range(1, len(dist)):\n",
    "            dist[i] += dist[i - 1]\n",
    "        result = []\n",
    "        if isinstance(self.x, pd.core.frame.DataFrame):\n",
    "            dist = [0] + dist + [self.getsize()]\n",
    "\n",
    "            for i in range(1, len(dist)):\n",
    "                x = self.x.iloc[dist[i - 1]:dist[i], :]\n",
    "                y = self.y.iloc[dist[i - 1]:dist[i], :]\n",
    "                x.reset_index(drop=True, inplace=True)\n",
    "                y.reset_index(drop=True, inplace=True)\n",
    "                result.append(CustomDataset(x, y))\n",
    "        elif isinstance(self.x, np.ndarray):\n",
    "            x_split = np.array_split(self.x, dist)\n",
    "            y_split = np.array_split(self.y, dist)\n",
    "\n",
    "            for i in range(len(x_split)):\n",
    "                result.append(CustomDataset(x_split[i], y_split[i]))\n",
    "\n",
    "        return tuple(result)\n",
    "\n",
    "    def to_numpy(self):\n",
    "        if isinstance(self.x, pd.core.frame.DataFrame):\n",
    "            self.x = self.x.to_numpy()\n",
    "            self.y = self.y.to_numpy()"
   ]
  },
  {
   "cell_type": "code",
   "execution_count": 54,
   "metadata": {
    "pycharm": {
     "is_executing": true
    }
   },
   "outputs": [
    {
     "name": "stdout",
     "output_type": "stream",
     "text": [
      "        city  date  language  mobile  stock  group  brand  parking  pool  \\\n",
      "0          3     3        26       0      0      5     11        0     0   \n",
      "1          2    36        12       1     76      2      2        0     0   \n",
      "2          2     8         7       1      6      0      0        0     0   \n",
      "3          1    16        16       1      0      1      7        0     0   \n",
      "4          7    28         9       0     85      3      9        1     0   \n",
      "...      ...   ...       ...     ...    ...    ...    ...      ...   ...   \n",
      "696674     3    14        19       1     19      5     10        0     0   \n",
      "696675     8    24        25       1      9      2     13        0     0   \n",
      "696676     4     7         0       1      0      0      0        0     0   \n",
      "696677     3     8         8       1      7      2      2        0     0   \n",
      "696678     1    33         0       1     60      4     12        1     0   \n",
      "\n",
      "        children_policy  order_requests  \n",
      "0                     0               1  \n",
      "1                     0               3  \n",
      "2                     0               3  \n",
      "3                     0               1  \n",
      "4                     0               2  \n",
      "...                 ...             ...  \n",
      "696674                0               2  \n",
      "696675                0               3  \n",
      "696676                0               2  \n",
      "696677                0               1  \n",
      "696678                0               2  \n",
      "\n",
      "[696679 rows x 11 columns]\n",
      "       price\n",
      "0        152\n",
      "1         94\n",
      "2         98\n",
      "3        101\n",
      "4        295\n",
      "...      ...\n",
      "696674   231\n",
      "696675   120\n",
      "696676   106\n",
      "696677   141\n",
      "696678   181\n",
      "\n",
      "[696679 rows x 1 columns]\n"
     ]
    }
   ],
   "source": [
    "def load_dataset(dataset_path, features_hotels, dtype=\"numpy\"):\n",
    "    \"\"\" A function to load the dataset directory\n",
    "\n",
    "    :param dataset_path: The path of the dataset directory\n",
    "    :param features_hotels: The path of the file containing features of each hotel\n",
    "    :param dtype: The output data type of the function\n",
    "    :return: An object containing the dataset in the data type specified in the dtype parameter\n",
    "    :rtype: CustomDataset\n",
    "    \"\"\"\n",
    "    city_folder = get_folder(dataset_path)\n",
    "    rows = None\n",
    "    for i in city_folder:\n",
    "        language_file = get_folder(f\"{dataset_path}/{i}\")\n",
    "        for j in language_file:\n",
    "            temp = pd.read_csv(f\"{dataset_path}/{i}/{j}\")\n",
    "            if rows is None:\n",
    "                rows = temp.to_numpy()\n",
    "            else:\n",
    "                rows = np.concatenate((rows, temp.to_numpy()))\n",
    "\n",
    "    np.random.shuffle(rows)\n",
    "    rows = pd.DataFrame(rows,\n",
    "                        columns=['hotel_id', 'price', 'stock', 'city', 'date', 'language', 'mobile', 'avatar_id',\n",
    "                                 'order_requests'])\n",
    "    hotels = pd.read_csv(features_hotels, index_col=['hotel_id', 'city'])\n",
    "    pricing_requests = rows.join(hotels, on=['hotel_id', 'city'])\n",
    "    y_data_set = pricing_requests[['price']]\n",
    "    x_data_set = pricing_requests[[\n",
    "        'city',\n",
    "        'date',\n",
    "        'language',\n",
    "        'mobile',\n",
    "        'stock',\n",
    "        'group',\n",
    "        'brand',\n",
    "        'parking',\n",
    "        'pool',\n",
    "        'children_policy',\n",
    "        'order_requests'\n",
    "    ]]\n",
    "    x_data_set = x_data_set.applymap(apply)\n",
    "    if dtype == \"numpy\":\n",
    "        return CustomDataset(x_data_set.to_numpy(), y_data_set.to_numpy())\n",
    "    elif dtype == \"pandas\":\n",
    "        return CustomDataset(x_data_set, y_data_set)\n",
    "    else:\n",
    "        raise \"Wrong data type\"\n",
    "        \n",
    "dataset = load_dataset('./dataset','./meta_data/features_hotels.csv', dtype=\"pandas\")\n",
    "print(dataset.x)\n",
    "print(dataset.y)"
   ]
  },
  {
   "cell_type": "code",
   "execution_count": 55,
   "metadata": {},
   "outputs": [
    {
     "data": {
      "text/html": [
       "<div>\n",
       "<style scoped>\n",
       "    .dataframe tbody tr th:only-of-type {\n",
       "        vertical-align: middle;\n",
       "    }\n",
       "\n",
       "    .dataframe tbody tr th {\n",
       "        vertical-align: top;\n",
       "    }\n",
       "\n",
       "    .dataframe thead th {\n",
       "        text-align: right;\n",
       "    }\n",
       "</style>\n",
       "<table border=\"1\" class=\"dataframe\">\n",
       "  <thead>\n",
       "    <tr style=\"text-align: right;\">\n",
       "      <th></th>\n",
       "      <th>city</th>\n",
       "      <th>date</th>\n",
       "      <th>language</th>\n",
       "      <th>mobile</th>\n",
       "      <th>stock</th>\n",
       "      <th>group</th>\n",
       "      <th>brand</th>\n",
       "      <th>parking</th>\n",
       "      <th>pool</th>\n",
       "      <th>children_policy</th>\n",
       "      <th>order_requests</th>\n",
       "    </tr>\n",
       "  </thead>\n",
       "  <tbody>\n",
       "    <tr>\n",
       "      <th>0</th>\n",
       "      <td>3</td>\n",
       "      <td>3</td>\n",
       "      <td>26</td>\n",
       "      <td>0</td>\n",
       "      <td>0</td>\n",
       "      <td>5</td>\n",
       "      <td>11</td>\n",
       "      <td>0</td>\n",
       "      <td>0</td>\n",
       "      <td>0</td>\n",
       "      <td>1</td>\n",
       "    </tr>\n",
       "    <tr>\n",
       "      <th>1</th>\n",
       "      <td>2</td>\n",
       "      <td>36</td>\n",
       "      <td>12</td>\n",
       "      <td>1</td>\n",
       "      <td>76</td>\n",
       "      <td>2</td>\n",
       "      <td>2</td>\n",
       "      <td>0</td>\n",
       "      <td>0</td>\n",
       "      <td>0</td>\n",
       "      <td>3</td>\n",
       "    </tr>\n",
       "    <tr>\n",
       "      <th>2</th>\n",
       "      <td>2</td>\n",
       "      <td>8</td>\n",
       "      <td>7</td>\n",
       "      <td>1</td>\n",
       "      <td>6</td>\n",
       "      <td>0</td>\n",
       "      <td>0</td>\n",
       "      <td>0</td>\n",
       "      <td>0</td>\n",
       "      <td>0</td>\n",
       "      <td>3</td>\n",
       "    </tr>\n",
       "    <tr>\n",
       "      <th>3</th>\n",
       "      <td>1</td>\n",
       "      <td>16</td>\n",
       "      <td>16</td>\n",
       "      <td>1</td>\n",
       "      <td>0</td>\n",
       "      <td>1</td>\n",
       "      <td>7</td>\n",
       "      <td>0</td>\n",
       "      <td>0</td>\n",
       "      <td>0</td>\n",
       "      <td>1</td>\n",
       "    </tr>\n",
       "    <tr>\n",
       "      <th>4</th>\n",
       "      <td>7</td>\n",
       "      <td>28</td>\n",
       "      <td>9</td>\n",
       "      <td>0</td>\n",
       "      <td>85</td>\n",
       "      <td>3</td>\n",
       "      <td>9</td>\n",
       "      <td>1</td>\n",
       "      <td>0</td>\n",
       "      <td>0</td>\n",
       "      <td>2</td>\n",
       "    </tr>\n",
       "    <tr>\n",
       "      <th>...</th>\n",
       "      <td>...</td>\n",
       "      <td>...</td>\n",
       "      <td>...</td>\n",
       "      <td>...</td>\n",
       "      <td>...</td>\n",
       "      <td>...</td>\n",
       "      <td>...</td>\n",
       "      <td>...</td>\n",
       "      <td>...</td>\n",
       "      <td>...</td>\n",
       "      <td>...</td>\n",
       "    </tr>\n",
       "    <tr>\n",
       "      <th>696674</th>\n",
       "      <td>3</td>\n",
       "      <td>14</td>\n",
       "      <td>19</td>\n",
       "      <td>1</td>\n",
       "      <td>19</td>\n",
       "      <td>5</td>\n",
       "      <td>10</td>\n",
       "      <td>0</td>\n",
       "      <td>0</td>\n",
       "      <td>0</td>\n",
       "      <td>2</td>\n",
       "    </tr>\n",
       "    <tr>\n",
       "      <th>696675</th>\n",
       "      <td>8</td>\n",
       "      <td>24</td>\n",
       "      <td>25</td>\n",
       "      <td>1</td>\n",
       "      <td>9</td>\n",
       "      <td>2</td>\n",
       "      <td>13</td>\n",
       "      <td>0</td>\n",
       "      <td>0</td>\n",
       "      <td>0</td>\n",
       "      <td>3</td>\n",
       "    </tr>\n",
       "    <tr>\n",
       "      <th>696676</th>\n",
       "      <td>4</td>\n",
       "      <td>7</td>\n",
       "      <td>0</td>\n",
       "      <td>1</td>\n",
       "      <td>0</td>\n",
       "      <td>0</td>\n",
       "      <td>0</td>\n",
       "      <td>0</td>\n",
       "      <td>0</td>\n",
       "      <td>0</td>\n",
       "      <td>2</td>\n",
       "    </tr>\n",
       "    <tr>\n",
       "      <th>696677</th>\n",
       "      <td>3</td>\n",
       "      <td>8</td>\n",
       "      <td>8</td>\n",
       "      <td>1</td>\n",
       "      <td>7</td>\n",
       "      <td>2</td>\n",
       "      <td>2</td>\n",
       "      <td>0</td>\n",
       "      <td>0</td>\n",
       "      <td>0</td>\n",
       "      <td>1</td>\n",
       "    </tr>\n",
       "    <tr>\n",
       "      <th>696678</th>\n",
       "      <td>1</td>\n",
       "      <td>33</td>\n",
       "      <td>0</td>\n",
       "      <td>1</td>\n",
       "      <td>60</td>\n",
       "      <td>4</td>\n",
       "      <td>12</td>\n",
       "      <td>1</td>\n",
       "      <td>0</td>\n",
       "      <td>0</td>\n",
       "      <td>2</td>\n",
       "    </tr>\n",
       "  </tbody>\n",
       "</table>\n",
       "<p>696679 rows × 11 columns</p>\n",
       "</div>"
      ],
      "text/plain": [
       "        city  date  language  mobile  stock  group  brand  parking  pool  \\\n",
       "0          3     3        26       0      0      5     11        0     0   \n",
       "1          2    36        12       1     76      2      2        0     0   \n",
       "2          2     8         7       1      6      0      0        0     0   \n",
       "3          1    16        16       1      0      1      7        0     0   \n",
       "4          7    28         9       0     85      3      9        1     0   \n",
       "...      ...   ...       ...     ...    ...    ...    ...      ...   ...   \n",
       "696674     3    14        19       1     19      5     10        0     0   \n",
       "696675     8    24        25       1      9      2     13        0     0   \n",
       "696676     4     7         0       1      0      0      0        0     0   \n",
       "696677     3     8         8       1      7      2      2        0     0   \n",
       "696678     1    33         0       1     60      4     12        1     0   \n",
       "\n",
       "        children_policy  order_requests  \n",
       "0                     0               1  \n",
       "1                     0               3  \n",
       "2                     0               3  \n",
       "3                     0               1  \n",
       "4                     0               2  \n",
       "...                 ...             ...  \n",
       "696674                0               2  \n",
       "696675                0               3  \n",
       "696676                0               2  \n",
       "696677                0               1  \n",
       "696678                0               2  \n",
       "\n",
       "[696679 rows x 11 columns]"
      ]
     },
     "execution_count": 55,
     "metadata": {},
     "output_type": "execute_result"
    }
   ],
   "source": [
    "dataset.x"
   ]
  },
  {
   "cell_type": "markdown",
   "metadata": {},
   "source": [
    "<div style=\"text-align: justify\"> \n",
    "\n",
    "#### 4.2 - DataLoader Pytorch\n",
    "\n",
    "Dans un second temps, nous avons eu besoin d’utiliser pytorch. Un nouveau package a donc été créée. En effet, la manière de charger les données avec pytorch est assez différente. Nous avons deux objets : DataSet and DataLoader objects.\n",
    "\n",
    "\n",
    "Avant de détailler le fonctionnement d’un DataLoader pytorch, notons qu’il a été créé une fonction one_hot_encoding(x) qui permettra de faire du one hot encoding sur les caractéristiques suivantes :\n",
    "-\tCity,\n",
    "-\tLanguage,\n",
    "-\tBrand,\n",
    "-\tGroup,\n",
    "-\tChildren,\n",
    "-\tDate,\n",
    "En effet, rappelons l'importance du one-hot-encoding des features, cela permet de casser les *fausses* relations d'ordre entre des modalités de certaines variables qui n'ont pas en réalité par d'ordre.\n",
    "\n",
    "La classe Dataset va nous aider à structurer nos données dans un certain format qui sera donné au dataloader pour ensuite permettre à la training loop de process au mieux les données. Celle-ci permettra donc ainsi de transformer les numpy array en tensors et également de centrer et réduire les données grâce à des transformers.\n",
    "\n",
    "Cette classe se compose donc de plusieurs méthodes :\n",
    "\n",
    "- Un constructeur permettant d'initialiser la classe,\n",
    "\n",
    "- Une méthode get_item permettant d'avoir accès à chaque ligne du dataset,\n",
    "\n",
    "- Une méthode get_len donant la taille du dataset,\n",
    "\n",
    "La méthode get_item sera très utile pour le **dataloader**. Le **dataloader** prendra chaque ligne pour en faire des batchs dont la size est renseignée dans les paramètres de celui-ci. En effet, cela permet d'optimiser l'apprentissage. Au lieu d'effectuer l'apprentissage sur toutes les données et d'avoir un entrainement très lent dû au calcul de gradient, une meilleure option est de diviser le dataset en de plus petits batchs. Ainsi la boucle d'entrainement itérera à travers les epoch qui elles-mêmes itéreront à travers TOUS les différents batchs composant le dataset.\n",
    "\n",
    "Pour être plus claire, nous allons définir certains termes:\n",
    "\n",
    "-\tUne epoch correspond à un forward et backward pass pour tous les trainings batch,\n",
    "-\tUn batch correspond à une combinaison de sample du dataset,\n",
    "-\tLe batch size est donc le nombre de sample dans un forward et backward pass,\n",
    "-\tLe nombre d’itérations est le nombre de boucle faite sur les différents batch\n",
    "\n",
    "**Exemple :**\n",
    "Samples=100,\n",
    "Batch_size=20,\n",
    "Nombre d’itérations=100/20=5 pour une epoch\n",
    "\n",
    "\n",
    "Ainsi, la fonction prepar_data_loader permet d’appeler la classe DataLoader qui divisera les données en différents batch et fera en sorte d’optimiser le training avec des paramètres tel que le shuffle.\n",
    "    </div>"
   ]
  },
  {
   "cell_type": "code",
   "execution_count": 56,
   "metadata": {
    "pycharm": {
     "is_executing": true
    }
   },
   "outputs": [],
   "source": [
    "class Data(Dataset):\n",
    "    def __init__(self, dataset_path, features_hotels, dtype=\"onehot\"):\n",
    "        dataset = load_dataset(dataset_path, features_hotels, dtype=\"pandas\")\n",
    "\n",
    "        if dtype == \"matrix\":\n",
    "            x = one_hot_encoding(dataset.x)\n",
    "            x = to_matrix(x)\n",
    "            self.X = torch.from_numpy(x.astype(np.float32))\n",
    "        elif dtype == \"onehot\":\n",
    "            x = one_hot_encoding(dataset.x)\n",
    "            self.X = torch.from_numpy(x.to_numpy().astype(np.float32))\n",
    "        elif dtype == \"relative\":\n",
    "            x = relative_column(dataset.x)\n",
    "            self.X = torch.from_numpy(x.to_numpy().astype(np.float32))\n",
    "        else:\n",
    "            raise f\"{dtype} => Invalid type for loading test set\"\n",
    "\n",
    "        self.y = torch.from_numpy(dataset.y.to_numpy().astype(np.float32))\n",
    "        self.len = self.X.shape[0]\n",
    "\n",
    "    def __getitem__(self, index):\n",
    "        return self.X[index], self.y[index]\n",
    "\n",
    "    def __len__(self):\n",
    "        return self.len"
   ]
  },
  {
   "cell_type": "code",
   "execution_count": 57,
   "metadata": {
    "pycharm": {
     "is_executing": true
    }
   },
   "outputs": [],
   "source": [
    "def prepare_dataloader(dataset_path, features_hotels, dist=[0.8, 0.2], batch_size=64, dtype=\"onehot\"):\n",
    "    dataset = Data(dataset_path, features_hotels, dtype)\n",
    "    rep = list(map(lambda x: int(x * dataset.__len__()), dist))\n",
    "    rep[-1] += dataset.__len__() - sum(rep)\n",
    "\n",
    "    split = torch.utils.data.random_split(dataset, rep)\n",
    "    data = []\n",
    "\n",
    "    for i in split:\n",
    "        data.append(DataLoader(dataset=i, batch_size=batch_size, shuffle=True, drop_last=True))\n",
    "\n",
    "    return tuple(data)"
   ]
  },
  {
   "cell_type": "markdown",
   "metadata": {},
   "source": [
    "<div style=\"text-align: justify\"> \n",
    "\n",
    "#### 4.3 - Test set\n",
    "\n",
    "Chaque jour, nous avons le droit à un nombre limité de soumissions (5). Ces soumissions sont faites à partir d'un jeu de données fourni par l'INRIA, et il suffit d'appliquer un modèle de regression sur l'ensemble de ce jeu de données. La fonction load_test_set se trouvant dans le package load_test_set permet de charger le jeu de données de soumission et de le concaténer avec les features des hotels et ensuite d'éffectuer les modifications nécessaires afin de pouvoir les manipuler avec pytorch et de faire les prédictions.</div>"
   ]
  },
  {
   "cell_type": "code",
   "execution_count": 58,
   "metadata": {
    "pycharm": {
     "is_executing": true
    }
   },
   "outputs": [],
   "source": [
    "def load_test_set(test_set='meta_data/test_set.csv', features_hotels='meta_data/features_hotels.csv'):\n",
    "    to_predict = pd.read_csv(test_set)\n",
    "    hotels = pd.read_csv(features_hotels, index_col=['hotel_id', 'city'])\n",
    "    to_predict = to_predict.join(hotels, on=['hotel_id', 'city'])\n",
    "    to_predict = to_predict.applymap(apply)\n",
    "\n",
    "    return to_predict['index'], to_predict[[\n",
    "        'city',\n",
    "        'date',\n",
    "        'language',\n",
    "        'mobile',\n",
    "        'stock',\n",
    "        'group',\n",
    "        'brand',\n",
    "        'parking',\n",
    "        'pool',\n",
    "        'children_policy',\n",
    "        'order_requests'\n",
    "    ]]"
   ]
  },
  {
   "cell_type": "code",
   "execution_count": 59,
   "metadata": {
    "pycharm": {
     "is_executing": true
    }
   },
   "outputs": [],
   "source": [
    "from datascience.data_loading.torch_dataloader import one_hot_encoding,relative_column,to_matrix\n",
    "\n",
    "def torch_test_set(test_set='meta_data/test_set.csv', features_hotels='meta_data/features_hotels.csv', dtype='onehot'):\n",
    "    index, test_set = load_test_set(test_set, features_hotels)\n",
    "\n",
    "    if dtype == 'onehot':\n",
    "        test_set = one_hot_encoding(test_set)\n",
    "        return index, test_set\n",
    "    elif dtype == 'matrix':\n",
    "        test_set = one_hot_encoding(test_set)\n",
    "        return index, to_matrix(test_set)\n",
    "    elif dtype == 'relative':\n",
    "        return index, relative_column(test_set)\n",
    "    else:\n",
    "        raise f\"{dtype} => Invalid type for loading test set\"\n"
   ]
  },
  {
   "cell_type": "code",
   "execution_count": 60,
   "metadata": {
    "pycharm": {
     "is_executing": true
    }
   },
   "outputs": [
    {
     "data": {
      "text/html": [
       "<div>\n",
       "<style scoped>\n",
       "    .dataframe tbody tr th:only-of-type {\n",
       "        vertical-align: middle;\n",
       "    }\n",
       "\n",
       "    .dataframe tbody tr th {\n",
       "        vertical-align: top;\n",
       "    }\n",
       "\n",
       "    .dataframe thead th {\n",
       "        text-align: right;\n",
       "    }\n",
       "</style>\n",
       "<table border=\"1\" class=\"dataframe\">\n",
       "  <thead>\n",
       "    <tr style=\"text-align: right;\">\n",
       "      <th></th>\n",
       "      <th>mobile</th>\n",
       "      <th>parking</th>\n",
       "      <th>pool</th>\n",
       "      <th>stock</th>\n",
       "      <th>order_requests</th>\n",
       "      <th>...</th>\n",
       "      <th>date_40</th>\n",
       "      <th>date_41</th>\n",
       "      <th>date_42</th>\n",
       "      <th>date_43</th>\n",
       "      <th>date_44</th>\n",
       "    </tr>\n",
       "  </thead>\n",
       "  <tbody>\n",
       "    <tr>\n",
       "      <th>0</th>\n",
       "      <td>0</td>\n",
       "      <td>1</td>\n",
       "      <td>0</td>\n",
       "      <td>46</td>\n",
       "      <td>1</td>\n",
       "      <td>...</td>\n",
       "      <td>0</td>\n",
       "      <td>0</td>\n",
       "      <td>0</td>\n",
       "      <td>0</td>\n",
       "      <td>0</td>\n",
       "    </tr>\n",
       "    <tr>\n",
       "      <th>1</th>\n",
       "      <td>0</td>\n",
       "      <td>1</td>\n",
       "      <td>1</td>\n",
       "      <td>32</td>\n",
       "      <td>1</td>\n",
       "      <td>...</td>\n",
       "      <td>0</td>\n",
       "      <td>0</td>\n",
       "      <td>0</td>\n",
       "      <td>0</td>\n",
       "      <td>0</td>\n",
       "    </tr>\n",
       "    <tr>\n",
       "      <th>2</th>\n",
       "      <td>0</td>\n",
       "      <td>1</td>\n",
       "      <td>0</td>\n",
       "      <td>12</td>\n",
       "      <td>1</td>\n",
       "      <td>...</td>\n",
       "      <td>0</td>\n",
       "      <td>0</td>\n",
       "      <td>0</td>\n",
       "      <td>0</td>\n",
       "      <td>0</td>\n",
       "    </tr>\n",
       "    <tr>\n",
       "      <th>3</th>\n",
       "      <td>0</td>\n",
       "      <td>0</td>\n",
       "      <td>0</td>\n",
       "      <td>10</td>\n",
       "      <td>1</td>\n",
       "      <td>...</td>\n",
       "      <td>0</td>\n",
       "      <td>0</td>\n",
       "      <td>0</td>\n",
       "      <td>0</td>\n",
       "      <td>0</td>\n",
       "    </tr>\n",
       "    <tr>\n",
       "      <th>4</th>\n",
       "      <td>0</td>\n",
       "      <td>1</td>\n",
       "      <td>1</td>\n",
       "      <td>42</td>\n",
       "      <td>1</td>\n",
       "      <td>...</td>\n",
       "      <td>0</td>\n",
       "      <td>0</td>\n",
       "      <td>0</td>\n",
       "      <td>0</td>\n",
       "      <td>0</td>\n",
       "    </tr>\n",
       "    <tr>\n",
       "      <th>...</th>\n",
       "      <td>...</td>\n",
       "      <td>...</td>\n",
       "      <td>...</td>\n",
       "      <td>...</td>\n",
       "      <td>...</td>\n",
       "      <td>...</td>\n",
       "      <td>...</td>\n",
       "      <td>...</td>\n",
       "      <td>...</td>\n",
       "      <td>...</td>\n",
       "      <td>...</td>\n",
       "    </tr>\n",
       "    <tr>\n",
       "      <th>6639</th>\n",
       "      <td>0</td>\n",
       "      <td>1</td>\n",
       "      <td>0</td>\n",
       "      <td>1</td>\n",
       "      <td>3</td>\n",
       "      <td>...</td>\n",
       "      <td>0</td>\n",
       "      <td>0</td>\n",
       "      <td>0</td>\n",
       "      <td>0</td>\n",
       "      <td>0</td>\n",
       "    </tr>\n",
       "    <tr>\n",
       "      <th>6640</th>\n",
       "      <td>1</td>\n",
       "      <td>1</td>\n",
       "      <td>0</td>\n",
       "      <td>1</td>\n",
       "      <td>4</td>\n",
       "      <td>...</td>\n",
       "      <td>0</td>\n",
       "      <td>0</td>\n",
       "      <td>0</td>\n",
       "      <td>0</td>\n",
       "      <td>0</td>\n",
       "    </tr>\n",
       "    <tr>\n",
       "      <th>6641</th>\n",
       "      <td>1</td>\n",
       "      <td>1</td>\n",
       "      <td>0</td>\n",
       "      <td>0</td>\n",
       "      <td>4</td>\n",
       "      <td>...</td>\n",
       "      <td>0</td>\n",
       "      <td>0</td>\n",
       "      <td>0</td>\n",
       "      <td>0</td>\n",
       "      <td>0</td>\n",
       "    </tr>\n",
       "    <tr>\n",
       "      <th>6642</th>\n",
       "      <td>1</td>\n",
       "      <td>1</td>\n",
       "      <td>0</td>\n",
       "      <td>0</td>\n",
       "      <td>4</td>\n",
       "      <td>...</td>\n",
       "      <td>0</td>\n",
       "      <td>0</td>\n",
       "      <td>0</td>\n",
       "      <td>0</td>\n",
       "      <td>0</td>\n",
       "    </tr>\n",
       "    <tr>\n",
       "      <th>6643</th>\n",
       "      <td>1</td>\n",
       "      <td>1</td>\n",
       "      <td>0</td>\n",
       "      <td>0</td>\n",
       "      <td>4</td>\n",
       "      <td>...</td>\n",
       "      <td>0</td>\n",
       "      <td>0</td>\n",
       "      <td>0</td>\n",
       "      <td>0</td>\n",
       "      <td>0</td>\n",
       "    </tr>\n",
       "  </tbody>\n",
       "</table>\n",
       "<p>6644 rows × 109 columns</p>\n",
       "</div>"
      ],
      "text/plain": [
       "      mobile  parking  pool  stock  order_requests  ...  date_40  date_41  \\\n",
       "0          0        1     0     46               1  ...        0        0   \n",
       "1          0        1     1     32               1  ...        0        0   \n",
       "2          0        1     0     12               1  ...        0        0   \n",
       "3          0        0     0     10               1  ...        0        0   \n",
       "4          0        1     1     42               1  ...        0        0   \n",
       "...      ...      ...   ...    ...             ...  ...      ...      ...   \n",
       "6639       0        1     0      1               3  ...        0        0   \n",
       "6640       1        1     0      1               4  ...        0        0   \n",
       "6641       1        1     0      0               4  ...        0        0   \n",
       "6642       1        1     0      0               4  ...        0        0   \n",
       "6643       1        1     0      0               4  ...        0        0   \n",
       "\n",
       "      date_42  date_43  date_44  \n",
       "0           0        0        0  \n",
       "1           0        0        0  \n",
       "2           0        0        0  \n",
       "3           0        0        0  \n",
       "4           0        0        0  \n",
       "...       ...      ...      ...  \n",
       "6639        0        0        0  \n",
       "6640        0        0        0  \n",
       "6641        0        0        0  \n",
       "6642        0        0        0  \n",
       "6643        0        0        0  \n",
       "\n",
       "[6644 rows x 109 columns]"
      ]
     },
     "execution_count": 60,
     "metadata": {},
     "output_type": "execute_result"
    }
   ],
   "source": [
    "torch_test_set()[1]"
   ]
  },
  {
   "cell_type": "markdown",
   "metadata": {},
   "source": [
    "## 4 - Les modèles"
   ]
  },
  {
   "cell_type": "markdown",
   "metadata": {},
   "source": [
    "### 4.1 - Modèles from scrach"
   ]
  },
  {
   "cell_type": "markdown",
   "metadata": {},
   "source": [
    "**a) Mise en place du réseaux de neurones**"
   ]
  },
  {
   "cell_type": "markdown",
   "metadata": {},
   "source": [
    "Avant de commencer l'étude du réseau de neurones, nous allons faire un bref rappel de ce qu'est un réseau de neurones.\n",
    "\n",
    "\n",
    "À l'origine, cet algorithme est inspiré du fonctionnement des neurones biologiques. Cet algorithme est capable d'apprendre à réaliser n'importe quelle tâche telle que la classification d'images ou de données.\n",
    "\n",
    "\n",
    "Ce qui diffère les algorithmes de machine learning tel que SVM ou les arbres de décisions, des algorithmes de deep Learning comme les réseaux de neurones, c'est que cette fois-ci le modèle n'est pas une simple fonction linéaire, mais un réseau de fonctions non-linéaires connectées les unes aux autres, ce qui permet de complexifier l'apprentissage et de le rendre plus robuste.\n",
    "\n",
    "\n",
    "Ainsi, la base d'un réseau de neurones est composée d'une fonction d'activation non-linéaire(softmax,relu,sigmoid) qui prend en entrée des xi multipliées par des poids wi et retourne des yi.\n",
    "\n",
    "\n",
    "\n",
    "Pour faire simple, voici un exemple de réseaux de neurone :\n",
    "\n",
    "![alt text](r1.png \"Title\")\n",
    "\n",
    "Comme observé sur l'image précédente, un réseau de neurones se composent de poids dont on doit faire la combinaison linéaire avec les entrées du réseau, c'est-à-dire les features, les caractéristiques. Dans notre cas, nous avons 11 entrées puisque 11 variables différentes.\n",
    "\n",
    "Puis dans un second temps, afin de complexifier et d'améliorer l'apprentissage, une fonction d'activation (relu, softmax, sigmoide, tanh) non-linéaire est appliquée à cette combinaison linéaire.\n",
    "\n",
    "**Attention** : dans les problèmes de régression, la dernière couche n'a pas de fonction d'activation puisque nous ne cherchons plus une probabilité, mais une valeur.\n",
    "\n",
    "Et ainsi de suite. Un réseau de neurones est un enchaînement de combinaisons linéaires et de fonction d'activation. Par exemple, si on décide de n'avoir que deux couches cachées avec chacune un neurone, on pourra avoir le modèle suivant :\n",
    "\n",
    "$$\n",
    "\\begin{aligned}\n",
    "z_1 & = xW_1 + b_1 \\\\\n",
    "a_1 & = \\tanh(z_1) \\\\\n",
    "z_2 & = a_1W_2 + b_2 \\\\\n",
    "a_2 & = \\hat{y} = z_2\n",
    "\\end{aligned}\n",
    "$$\n",
    "\n",
    "\n",
    "\n",
    "$z_i$ est la somme pondérée des entrées de la couche $i$ (biais inclus) et $a_i$ est la sortie de la couche $i$ après application de la fonction d'activation. $W_1$, $b_1$, $W_2$, $b_2$ sont les paramètres de notre réseau, que nous devons estimer à partir des données d'entrainements.\n",
    "\n",
    "Ici, on remarque que la dernière couche n'a pas de fonction d'activation. En effet, cela s'explique puisque nous sommes dans le cas d'un problème de regression.\n",
    "\n",
    "Par ailleurs la fonction loss est :\n",
    "\n",
    "\\begin{equation*} MSE =\\frac{1}{n} \\sum_{i=1}^n (y_i – \\hat{y}_i)^2 \\end{equation*}\n",
    "\n",
    "\n",
    "Nous avons choisi la mean square error puisque celle-ci est très utilisée pour les problèmes de regression.\n",
    "De plus, c'est une fonction plutôt simple à dériver. Ceci était un critère important puisque toutesles fonctions ont été faites from scratch. Il a donc fallu effectuer les dérivée une à une lors de la backpropagation (autmatisation de celles-ci au travers des boucles)."
   ]
  },
  {
   "cell_type": "code",
   "execution_count": 61,
   "metadata": {
    "pycharm": {
     "is_executing": true
    }
   },
   "outputs": [],
   "source": [
    "from sklearn.metrics import accuracy_score, mean_squared_error\n",
    "from tqdm import tqdm"
   ]
  },
  {
   "cell_type": "markdown",
   "metadata": {},
   "source": [
    "**b) Explication de chacune des fonctions**\n",
    "\n",
    "Dans un second temps, nous allons expliquer une à une les fonctions."
   ]
  },
  {
   "cell_type": "markdown",
   "metadata": {},
   "source": [
    "**Initialisation des poids**\n",
    "\n",
    "Afin d'effectuer la fonction forward et de lancer l'algorithme, il faut initialiser les poids.\n",
    "Nous allons leur donner des valeurs aléatoires. \n",
    "\n",
    "Cette fonction prend donc entrées un vecteur dimension qui prendra autant de valeur qu'il y a de couches. Sachant que la première couche doit avour autant de noeud que de variables dans le dataset et que la dernière couche prend autant de noeud que de labels. \n",
    "\n",
    "Pour les autres valeurs du vecteurs dimensions, elles dépendront de l'utilisateur et des tests qu'il veut mener. Ici, nous allons simuler 4 couches dont deux cachées avec :\n",
    "- 11 neurones,\n",
    "- 4 neurones,\n",
    "- 4 neurones,\n",
    "- 1 neurones."
   ]
  },
  {
   "cell_type": "code",
   "execution_count": 62,
   "metadata": {
    "pycharm": {
     "is_executing": true
    }
   },
   "outputs": [],
   "source": [
    "def initialisation(dimensions):\n",
    "    parametres = {}\n",
    "    C = len(dimensions)\n",
    "\n",
    "    np.random.seed(1)\n",
    "\n",
    "    for c in range(1, C):\n",
    "        parametres['W' + str(c)] = np.random.randn(dimensions[c], dimensions[c - 1])\n",
    "        parametres['b' + str(c)] = np.random.randn(dimensions[c], 1)\n",
    "\n",
    "    return parametres"
   ]
  },
  {
   "cell_type": "markdown",
   "metadata": {},
   "source": [
    "**Forward Propagation**\n",
    "\n",
    "Cette fonction permet de calculer les activations du réseaux avec pour la première itération les poids initialisés aléatoirement puis pour les autres itérations les poids mis à jour par la fonction update.\n",
    "\n",
    "Notre modèle est tel que nous avons tanh comme fonction d'activation pour toutes les couches sauf la dernière qui est une simple relation linéaire."
   ]
  },
  {
   "cell_type": "code",
   "execution_count": 63,
   "metadata": {
    "pycharm": {
     "is_executing": true
    }
   },
   "outputs": [],
   "source": [
    "def forward_propagation(X, parametres):\n",
    "    activations = {'A0': X}\n",
    "\n",
    "    # C est le nombre de couches si on a 4 paramètres cela signifie qu'on a deux couches\n",
    "    C = len(parametres) // 2\n",
    "\n",
    "    for c in range(1, C):\n",
    "        Z = parametres['W' + str(c)].dot(activations['A' + str(c - 1)]) + parametres['b' + str(c)]\n",
    "        Z = Z.astype(np.float64)\n",
    "        activations['A' + str(c)] = 1 / (1 + np.exp(-Z))\n",
    "\n",
    "    # print(activations)\n",
    "    Z = parametres['W' + str(C)].dot(activations['A' + str(C - 1)]) + parametres['b' + str(C)]\n",
    "    Z = Z.astype(np.float64)\n",
    "    activations['A' + str(C)] = Z\n",
    "    return activations"
   ]
  },
  {
   "cell_type": "markdown",
   "metadata": {},
   "source": [
    "**Backpropagation**\n",
    "\n",
    "Le but de cette fonction sera de **calculer les gradients**, les dérivées de la loss function en fonction des poids afin de trouver les valeurs des poids qui minimisent la fontion erreur.\n",
    "\n",
    "Ainsi, nous avons décidé de prendre la fonction tanh comme activation sur toutes les couches excepté la dernière qui est une fonction affine.\n",
    "\n",
    "Rappelons qu'ici notre fonction loss est la MSE :\n",
    "\n",
    "\n",
    "\\begin{equation*} MSE =\\frac{1}{n} \\sum_{i=1}^n (y_i – \\hat{y}_i)^2 \\end{equation*}\n",
    "\n",
    "\n",
    "Lors de l'éxécution du backward_pass, Les paramètres (Wi et bi) sont estimés en remontant chacune des étapes faites lors de la forward_pass. C'est le contraire de la forward_pass.\n",
    "\n",
    "**Cas de la dernière couche (DC) - Pas de fonction d'activation**\n",
    "\n",
    "Ainsi pour la dernière couche(DC), on doit dérivée la loss fonction par rapport à W_DC et b_DC les derniers paramètres, paramère de la dernière couche.\n",
    "\n",
    "On a donc :\n",
    "\n",
    "\n",
    "$$\n",
    "\\begin{aligned}\n",
    "& \\frac{\\partial \\mathscr{L}}{\\partial \\omega^{[DC]}}=\\frac{\\partial \\mathcal{L}}{\\partial A^{[DC]}} \\times \\frac{\\partial A^{[DC]}}{\\partial Z^{[DC]}} \\times \\frac{\\partial Z^{[DC]}}{\\partial \\omega^{[DC]}} \\\\\n",
    "& \\frac{\\partial \\mathscr{L}}{\\partial b^{[DC]}}=\\frac{\\partial \\mathscr{L}}{\\partial A^{[DC]}} \\times \\frac{\\partial A^{[DC]}}{\\partial Z^{[DC]}} \\times \\frac{\\partial Z^{[DC]}}{\\partial b^{[DC]}} \\\\\n",
    "&\n",
    "\\end{aligned}\n",
    "$$\n",
    "\n",
    "\n",
    "**Formule de dZ**:\n",
    "\n",
    "Ainsi le premier $dZ_{DC}$ ou delta3( dans le tp d'origine) :\n",
    "\n",
    "\n",
    "$$dZ_{DC}=\\frac{\\partial \\mathcal{L}}{\\partial A^{[DC]}}\\times \\frac{\\partial A^{[DC]}}{\\partial Z^{[DC]}}= 2*(A^{[DC]}-y)$$\n",
    "\n",
    "Pour en savoir plus confère : https://info.usherbrooke.ca/pmjodoin/cours/ift603/softmax_grad.html\n",
    "\n",
    "\n",
    "\n",
    "- $\\frac{\\partial Z^{[DC]}}{\\partial \\omega^{[DC]}}$=$A^{[DC-1]}$\n",
    "\n",
    "Donc pour la dernière couche on a :\n",
    "\n",
    "$$\\frac{\\partial \\mathscr{L}}{\\partial \\omega^{[DC]}}={A^{[DC-1]}}\\times{( A^{[DC]}-y)}*2 $$"
   ]
  },
  {
   "cell_type": "markdown",
   "metadata": {},
   "source": [
    "**Cas des autres couches (AC) - Fonction d'activation TANH**\n",
    "\n",
    "Ici, nous allons étudier ce qui se passe avec l'avant dernière couche (ADC). Cela sera le même procédé pour les autres couches.\n",
    "\n",
    "On veut donc calculer :\n",
    "\n",
    "\n",
    "$$\n",
    "\\begin{aligned}\n",
    "& \\frac{\\partial \\mathscr{L}}{\\partial \\omega^{[ADC]}}=\\frac{\\partial \\mathcal{L}}{\\partial A^{[DC]}} \\times \\frac{\\partial A^{[DC]}}{\\partial Z^{[DC]}} \\times \\frac{\\partial Z^{[DC]}}{\\partial A^{[ADC]}} \\times \\frac{\\partial A^{[ADC]}}{\\partial Z^{[ADC]}} \\times \\frac{\\partial Z^{[ADC]}}{\\partial \\omega^{[ADC]}} \\\\\n",
    "&\n",
    "\\end{aligned}\n",
    "$$\n",
    "\n",
    "\n",
    "Ici, on reconnait une première partie que l'on a déjà calculé notre $dZ_{DC}$.\n",
    "\n",
    "Nous allons donc nous concentrer sur le calcul des autres parties pour calculer $dZ_{ADC}$ :\n",
    "\n",
    "$$dZ_{ADC}=dZ_{DC}\\times{\\frac{\\partial Z^{[DC]}}{\\partial A^{[ADC]}}}\\times{\\frac{\\partial A^{[ADC]}}{\\partial Z^{[ADC]}}}$$\n",
    "\n",
    "\n",
    "- ${\\frac{\\partial Z^{[DC]}}{\\partial A^{[ADC]}}}=W^{[DC]}$\n",
    "\n",
    "- ${\\frac{\\partial A^{[ADC]}}{\\partial Z^{[ADC]}}}=1-(A^{[ADC]})^{2}$, ici il faut faire attention à la dérivée. En effet, elle change puisque maintenant la fonction d'activation est tanh.\n",
    "\n",
    "\n",
    "Donc :\n",
    "\n",
    "$$dZ_{ADC}=dZ_{DC}\\times{W^{[DC]}}\\times{(1-(A^{[ADC]})^{2})}$$\n",
    "\n",
    "Ainsi :\n",
    "\n",
    "$$\\frac{\\partial \\mathscr{L}}{\\partial \\omega^{[ADC]}}= dZ_{ADC} \\times {A^{[ADC]}}$$ \n",
    "\n",
    "\n",
    "Maintenant que chacune des étapes a été expliquées, il faut les coder comme suit:"
   ]
  },
  {
   "cell_type": "code",
   "execution_count": 64,
   "metadata": {
    "pycharm": {
     "is_executing": true
    }
   },
   "outputs": [],
   "source": [
    "def back_propagation(y, parametres, activations):\n",
    "    m = y.shape[1]\n",
    "    C = len(parametres) // 2\n",
    "\n",
    "    dZ = activations['A' + str(C)] - y\n",
    "    gradients = {}\n",
    "\n",
    "    for c in reversed(range(1, C + 1)):\n",
    "        gradients['dW' + str(c)] = 1 / m * np.dot(dZ, activations['A' + str(c - 1)].T)\n",
    "        gradients['db' + str(c)] = 1 / m * np.sum(dZ, axis=1, keepdims=True)\n",
    "        if c > 1:\n",
    "            dZ = np.dot(parametres['W' + str(c)].T, dZ) * activations['A' + str(c - 1)] * (\n",
    "                    1 - activations['A' + str(c - 1)])\n",
    "\n",
    "    return gradients"
   ]
  },
  {
   "cell_type": "markdown",
   "metadata": {},
   "source": [
    "**Mise à jour des poids**\n",
    "\n",
    "A chaque itération, les poids $W_{i}$ et biais $b_{i}$ de chaque couche sont mis à jour jusqu'à la fin des itération ou convergence des valeurs des poids vers une minimisation globale de la fonction coût.\n",
    "\n",
    "Cette fonction prend donc en entrée les poids(paramètres) calculés précédemment par la forward pass et les actualise au moyen des gradients calculés avec la backward pass et un learning rate prédéfini. \n",
    "\n",
    "Rappelons que le learning rate(lr) permet de faire converger les poids plus ou moins vite vers le minimum de la fonction loss. Néanmoins, il faut faire attention à la valeur prise par celui-ci, puisqu'une valeur trop grande fera diverger l'algorithme tandis qu'une valeur trop petite mettra beaucoup de temps à faire converger l'algorithme."
   ]
  },
  {
   "cell_type": "code",
   "execution_count": 65,
   "metadata": {
    "pycharm": {
     "is_executing": true
    }
   },
   "outputs": [],
   "source": [
    "def update(gradients, parametres, learning_rate):\n",
    "    C = len(parametres) // 2\n",
    "\n",
    "    for c in range(1, C + 1):\n",
    "        parametres['W' + str(c)] = parametres['W' + str(c)] - learning_rate * gradients['dW' + str(c)]\n",
    "        parametres['b' + str(c)] = parametres['b' + str(c)] - learning_rate * gradients['db' + str(c)]\n",
    "\n",
    "    return parametres"
   ]
  },
  {
   "cell_type": "markdown",
   "metadata": {},
   "source": [
    "**Prédiction**\n",
    "\n",
    "Cette fonction prédiction est utile pour evaluer la performance du modèle sur les données tests. En effet, on prend en entrées les paramètres trouvés par le modèle et ainsi que le dataset de test et la fonction nous retourne le prix de l'hôtel en question."
   ]
  },
  {
   "cell_type": "code",
   "execution_count": 66,
   "metadata": {
    "pycharm": {
     "is_executing": true
    }
   },
   "outputs": [],
   "source": [
    "def predict(X, parametres):\n",
    "    activations = forward_propagation(X, parametres)\n",
    "    C = len(parametres) // 2\n",
    "    Af = activations['A' + str(C)]\n",
    "    return Af"
   ]
  },
  {
   "cell_type": "code",
   "execution_count": 67,
   "metadata": {
    "pycharm": {
     "is_executing": true
    }
   },
   "outputs": [],
   "source": [
    "def prep_data(X, y):\n",
    "    X_train_transpose = X.T\n",
    "    Y_train_transpose = y.T\n",
    "    return X_train_transpose, Y_train_transpose"
   ]
  },
  {
   "cell_type": "markdown",
   "metadata": {},
   "source": [
    "**Training Loop**\n",
    "\n",
    "Enfin, cette fonction build_model, nous permet d'itérer sur les fonctions crées précedemment: "
   ]
  },
  {
   "cell_type": "code",
   "execution_count": 68,
   "metadata": {
    "pycharm": {
     "is_executing": true
    }
   },
   "outputs": [],
   "source": [
    "def deep_neural_network(X, y,X_test,y_test,hidden_layers, learning_rate=0.001, n_iter=3000):\n",
    "    X, y = prep_data(X, y)\n",
    "    X_test, y_test = prep_data(X_test, y_test)\n",
    "    # initialisation parametres\n",
    "    dimensions = hidden_layers\n",
    "    \n",
    "    # On insert les nombres de coordonnées pour un individu\n",
    "    dimensions.insert(0, X.shape[0])\n",
    "    \n",
    "    # On donne une sortie\n",
    "    dimensions.append(y.shape[0])\n",
    "    np.random.seed(1)\n",
    "    parametres = initialisation(dimensions)\n",
    "\n",
    "    # tableau numpy contenant la RMSE au cours des itérations\n",
    "    training_history = np.zeros((int(n_iter),1))\n",
    "    \n",
    "    \n",
    "    #Test\n",
    "    test_history = np.zeros((int(n_iter),1))\n",
    "\n",
    "    C = len(parametres) // 2\n",
    "\n",
    "    # gradient descent\n",
    "    for i in tqdm(range(n_iter)):\n",
    "        activations = forward_propagation(X, parametres)\n",
    "\n",
    "        gradients = back_propagation(y, parametres, activations)\n",
    "        parametres = update(gradients, parametres, learning_rate)\n",
    "        Af = activations['A' + str(C)]\n",
    "        # calcul du log_loss et de l'accuracy\n",
    "        y_pred = predict(X, parametres)   \n",
    "        y_pred_test = predict(X_test, parametres)\n",
    "        training_history[i, 0] = mean_squared_error(y.flatten().astype(np.int32), y_pred.flatten(), squared=True)\n",
    "        test_history[i, 0] = mean_squared_error(y_test.flatten().astype(np.int32), y_pred_test.flatten(), squared=True)\n",
    "\n",
    "\n",
    "    # Plot courbe d'apprentissage\n",
    "    mse=mean_squared_error(y.flatten().astype(np.int32), Af.flatten(), squared=True)\n",
    "    # print(rmse)\n",
    "    return parametres,mse,training_history,test_history"
   ]
  },
  {
   "cell_type": "code",
   "execution_count": 69,
   "metadata": {},
   "outputs": [],
   "source": [
    "from sklearn.model_selection import train_test_split"
   ]
  },
  {
   "cell_type": "code",
   "execution_count": 70,
   "metadata": {
    "pycharm": {
     "is_executing": true
    }
   },
   "outputs": [],
   "source": [
    "from datascience.model import MLModel\n",
    "class AmbreNet(MLModel):\n",
    "    def __init__(self, dataset='./dataset', features_hotels='./meta_data/features_hotels.csv'):\n",
    "        super().__init__(dataset=dataset, features_hotels=features_hotels)\n",
    "        self.parametres = None\n",
    "        self.mse=None\n",
    "        \n",
    "        self.dataset.to_numpy()\n",
    "        index = int(0.05 * len(self.dataset.x))\n",
    "        self.dataset.x = self.dataset.x[:index]\n",
    "        self.dataset.y = self.dataset.y[:index]\n",
    "    \n",
    "        #self.train_set, self.valid_set = self.dataset.split(dist=[0.8])\n",
    "        self.train_set_x,self.valid_set_x, self.train_set_y,self.valid_set_y = train_test_split(self.dataset.x, self.dataset.y, test_size=0.3, random_state=42)\n",
    "\n",
    "    def train(self, hidden_layers=[16,16,16], learning_rate=0.01,n_iter=2):\n",
    "        self.parametres,self.mse,self.training_history,self.test_history = deep_neural_network(self.train_set_x, self.train_set_y,self.valid_set_x,self.valid_set_y, hidden_layers=hidden_layers,\n",
    "                                              learning_rate=learning_rate,\n",
    "                                              n_iter=n_iter)\n",
    "        \n",
    "\n",
    "    def predict(self, x):\n",
    "        return predict(x, self.parametres)"
   ]
  },
  {
   "cell_type": "markdown",
   "metadata": {},
   "source": [
    "**b) Les tests**\n",
    "\n",
    "Nous allons ainsi faire des tests grâce à notre réseaux de neurones sur différents paramètres:\n",
    "    \n",
    "    - Tests avec différents learning rate (1.4, 0.01, 0.1)\n",
    "    \n",
    "    - Tests avec un nombre différent de neurone par couche\n",
    "    \n",
    "    - Test avec un nombre de couche différents\n",
    "    \n",
    "Dans cette partie, nous allons créer des graphes pour comparer les RMSE en fonctions des paramètres étudiés.\n",
    "Nous choisissons d'étudier la métrique RMSE qui est la racine carrée de la MSE, afin d'être cohérent avec les autres modèles qui utlisent cette métrique. Celle-ci sera étudiée sur les données d'entrainements et de tests afin d'observer au cours de l'apprentissage si le modèle ne s'adapte pas trop aux données d'apprentissage et fait ainsi du sur-apprentissage.\n",
    "\n",
    "De plus, nous faisons le choix de fixer le nombre d'itération à 100 pour rester cohérent avec les autres modèles.\n",
    "\n",
    "Nous avons donc crée une fonction permettant d'appliquer à un numpy array la fonction racine carrée: "
   ]
  },
  {
   "cell_type": "code",
   "execution_count": 71,
   "metadata": {},
   "outputs": [],
   "source": [
    "#Nous appliquons la fonction racine carrée sur notre tableau\n",
    "def f(x):\n",
    "    # return math.sqrt(x)\n",
    "    return np.sqrt(x)\n",
    "\n",
    "def array_map(x):\n",
    "    return np.array(list(map(f, x)))"
   ]
  },
  {
   "cell_type": "code",
   "execution_count": 72,
   "metadata": {},
   "outputs": [],
   "source": [
    "#Fixer le nombre d'itération \n",
    "n_iter_fixe=100"
   ]
  },
  {
   "cell_type": "code",
   "execution_count": 73,
   "metadata": {},
   "outputs": [],
   "source": [
    "it = [ i for i in range(n_iter_fixe) ]"
   ]
  },
  {
   "cell_type": "markdown",
   "metadata": {},
   "source": [
    "**Tests avec différents learning rate**"
   ]
  },
  {
   "cell_type": "code",
   "execution_count": 74,
   "metadata": {},
   "outputs": [],
   "source": [
    "vect_lr=np.array([0.1,0.01,0.001])"
   ]
  },
  {
   "cell_type": "code",
   "execution_count": 75,
   "metadata": {},
   "outputs": [],
   "source": [
    "training_final_lr = np.zeros((n_iter_fixe, 0))\n",
    "test_final_lr=np.zeros((n_iter_fixe, 0))"
   ]
  },
  {
   "cell_type": "code",
   "execution_count": 76,
   "metadata": {},
   "outputs": [
    {
     "name": "stderr",
     "output_type": "stream",
     "text": [
      "100%|██████████| 100/100 [00:26<00:00,  3.79it/s]\n",
      "100%|██████████| 100/100 [00:25<00:00,  3.86it/s]\n",
      "100%|██████████| 100/100 [00:27<00:00,  3.70it/s]\n"
     ]
    }
   ],
   "source": [
    "for i in vect_lr:\n",
    "    model=AmbreNet()\n",
    "    model.train(hidden_layers=[4,4],learning_rate=i,n_iter=n_iter_fixe)\n",
    "    training_final_lr=np.c_[training_final_lr,model.training_history]\n",
    "    test_final_lr=np.c_[test_final_lr,model.test_history]"
   ]
  },
  {
   "cell_type": "code",
   "execution_count": 77,
   "metadata": {},
   "outputs": [],
   "source": [
    "training_final_lr=array_map(training_final_lr)\n",
    "test_final_lr=array_map(test_final_lr)"
   ]
  },
  {
   "cell_type": "code",
   "execution_count": 78,
   "metadata": {},
   "outputs": [
    {
     "data": {
      "image/png": "[encoded data removed]",
      "text/plain": [
       "<Figure size 1200x400 with 2 Axes>"
      ]
     },
     "metadata": {},
     "output_type": "display_data"
    }
   ],
   "source": [
    "plt.figure(figsize=(12, 4))\n",
    "\n",
    "\n",
    "#Entrainement\n",
    "plt.subplot(1,2,1)\n",
    "plt.plot(it,training_final_lr[:,0],\"--c\",label='RMSE Modèle 4 neurones 2 couches et lr=0.1')\n",
    "plt.plot(it,training_final_lr[:,1],\"--y\",label='RMSE Modèle 4 neurones 2 couches et lr=0.01')\n",
    "plt.plot(it,training_final_lr[:,2],\"--b\",label='RMSE Modèle 4 neurones 2 couches et lr=0.001')\n",
    "plt.title(\"Graphique avec les données d'entrainement\")\n",
    "plt.xlabel(\"Nombre d'itérations\")\n",
    "plt.ylabel(\"RMSE\")\n",
    "plt.legend()\n",
    "\n",
    "#Test\n",
    "plt.subplot(1,2,2)\n",
    "plt.plot(it,test_final_lr[:,0],\"--c\",label='RMSE Modèle 4 neurones 2 couches et lr=0.1')\n",
    "plt.plot(it,test_final_lr[:,1],\"--y\",label='RMSE Modèle 4 neurones 2 couches et lr=0.01')\n",
    "plt.plot(it,test_final_lr[:,2],\"--b\",label='RMSE Modèle 4 neurones 2 couches et lr=0.001')\n",
    "plt.title(\"Graphique avec les données de tests\")\n",
    "plt.xlabel(\"Nombre d'itérations\")\n",
    "plt.ylabel(\"RMSE\")\n",
    "plt.legend()\n",
    "\n",
    "plt.show()"
   ]
  },
  {
   "cell_type": "markdown",
   "metadata": {},
   "source": [
    "**Interprétation** :\n",
    "\n",
    "Comme on peut l'observer sur les graphiques précédents un learning rate de 0.1 n'est pas du tout adapté aux données en comparaison à un learning rate de 0.01 et 0.001. Afin, d'être sûre qu'il n'y ai pas de surapprentissage, nous prendrons pour la suite des tests un learning rate de 0.01."
   ]
  },
  {
   "cell_type": "markdown",
   "metadata": {},
   "source": [
    "**Tests avec un nombre différents de couches**"
   ]
  },
  {
   "cell_type": "code",
   "execution_count": 79,
   "metadata": {},
   "outputs": [],
   "source": [
    "training_final_layers1 = np.zeros((n_iter_fixe, 0))\n",
    "test_final_layers1=np.zeros((n_iter_fixe, 0))"
   ]
  },
  {
   "cell_type": "code",
   "execution_count": 80,
   "metadata": {},
   "outputs": [
    {
     "name": "stderr",
     "output_type": "stream",
     "text": [
      "100%|██████████| 100/100 [00:18<00:00,  5.51it/s]\n"
     ]
    }
   ],
   "source": [
    "model=AmbreNet()\n",
    "model.train(hidden_layers=[4],learning_rate=0.1,n_iter=n_iter_fixe)\n",
    "training_final_layers1=np.c_[training_final_layers1,model.training_history]\n",
    "test_final_layers1=np.c_[test_final_layers1,model.test_history]"
   ]
  },
  {
   "cell_type": "code",
   "execution_count": 81,
   "metadata": {},
   "outputs": [],
   "source": [
    "training_final_layers1=array_map(training_final_layers1)\n",
    "test_final_layers1=array_map(test_final_layers1)"
   ]
  },
  {
   "cell_type": "markdown",
   "metadata": {},
   "source": [
    "**b) 2 couches**"
   ]
  },
  {
   "cell_type": "code",
   "execution_count": 82,
   "metadata": {},
   "outputs": [],
   "source": [
    "training_final_layers2 = np.zeros((n_iter_fixe, 0))\n",
    "test_final_layers2=np.zeros((n_iter_fixe, 0))"
   ]
  },
  {
   "cell_type": "code",
   "execution_count": 83,
   "metadata": {},
   "outputs": [
    {
     "name": "stderr",
     "output_type": "stream",
     "text": [
      "100%|██████████| 100/100 [00:25<00:00,  3.88it/s]\n"
     ]
    }
   ],
   "source": [
    "model=AmbreNet()\n",
    "model.train(hidden_layers=[4,4],learning_rate=0.1,n_iter=n_iter_fixe)\n",
    "training_final_layers2=np.c_[training_final_layers2,model.training_history]\n",
    "test_final_layers2=np.c_[test_final_layers2,model.test_history]"
   ]
  },
  {
   "cell_type": "code",
   "execution_count": 84,
   "metadata": {},
   "outputs": [],
   "source": [
    "training_final_layers2=array_map(training_final_layers2)\n",
    "test_final_layers2=array_map(test_final_layers2)"
   ]
  },
  {
   "cell_type": "markdown",
   "metadata": {},
   "source": [
    "**c) 3 couches**"
   ]
  },
  {
   "cell_type": "code",
   "execution_count": 85,
   "metadata": {},
   "outputs": [],
   "source": [
    "training_final_layers3 = np.zeros((n_iter_fixe, 0))\n",
    "test_final_layers3=np.zeros((n_iter_fixe, 0))"
   ]
  },
  {
   "cell_type": "code",
   "execution_count": 86,
   "metadata": {},
   "outputs": [
    {
     "name": "stderr",
     "output_type": "stream",
     "text": [
      "100%|██████████| 100/100 [00:39<00:00,  2.52it/s]\n"
     ]
    }
   ],
   "source": [
    "model=AmbreNet()\n",
    "model.train(hidden_layers=[4,4,4],learning_rate=0.1,n_iter=n_iter_fixe)\n",
    "training_final_layers3=np.c_[training_final_layers3,model.training_history]\n",
    "test_final_layers3=np.c_[test_final_layers3,model.test_history]"
   ]
  },
  {
   "cell_type": "code",
   "execution_count": 87,
   "metadata": {},
   "outputs": [],
   "source": [
    "training_final_layers3=array_map(training_final_layers3)\n",
    "test_final_layers3=array_map(test_final_layers3)"
   ]
  },
  {
   "cell_type": "code",
   "execution_count": 88,
   "metadata": {},
   "outputs": [
    {
     "data": {
      "image/png": "[encoded data removed]",
      "text/plain": [
       "<Figure size 1200x400 with 2 Axes>"
      ]
     },
     "metadata": {},
     "output_type": "display_data"
    }
   ],
   "source": [
    "plt.figure(figsize=(12, 4))\n",
    "\n",
    "\n",
    "#Entrainement\n",
    "plt.subplot(1,2,1)\n",
    "plt.plot(it,training_final_layers1[:,0],\"--c\",label='RMSE Modèle 1 Couche avec 4 neurones')\n",
    "plt.plot(it,training_final_layers2[:,0],\"--y\",label='RMSE Modèle 2 Couches avec 4 neurones')\n",
    "plt.plot(it,training_final_layers3[:,0],\"--y\",label='RMSE Modèle 3 Couches avec 4 neurones')\n",
    "plt.title(\"Graphique avec les données d'entrainement\")\n",
    "plt.xlabel(\"Nombre d'itérations\")\n",
    "plt.ylabel(\"RMSE\")\n",
    "plt.legend()\n",
    "\n",
    "#Test\n",
    "plt.subplot(1,2,2)\n",
    "plt.plot(it,test_final_layers1[:,0],\"--c\",label='RMSE Modèle 1 Couche avec 4 neurones')\n",
    "plt.plot(it,test_final_layers2[:,0],\"--y\",label='RMSE Modèle 2 Couches avec 4 neurones')\n",
    "plt.plot(it,test_final_layers3[:,0],\"--y\",label='RMSE Modèle 3 Couches avec 4 neurones')\n",
    "plt.title(\"Graphique avec les données de tests\")\n",
    "plt.xlabel(\"Nombre d'itérations\")\n",
    "plt.ylabel(\"RMSE\")\n",
    "plt.legend()\n",
    "\n",
    "\n",
    "\n",
    "plt.show()"
   ]
  },
  {
   "cell_type": "markdown",
   "metadata": {},
   "source": [
    "**Interprétation** :\n",
    "\n",
    "Avec 100 itérations, il n'y a pas de réel différence entre les 3 modèles. Cependant, on préfera celui avec deux couches qui semblent être plus fiable puisqu'il a une tendance de descente moins franche que les deux autres modèles."
   ]
  },
  {
   "cell_type": "markdown",
   "metadata": {},
   "source": [
    "**Tests avec un nombre de différents de neurones par couches**"
   ]
  },
  {
   "cell_type": "code",
   "execution_count": 89,
   "metadata": {},
   "outputs": [],
   "source": [
    "vect_neurone=np.array([4,8,16])"
   ]
  },
  {
   "cell_type": "code",
   "execution_count": 90,
   "metadata": {},
   "outputs": [],
   "source": [
    "training_final = np.zeros((n_iter_fixe, 0))\n",
    "test_final=np.zeros((n_iter_fixe, 0))"
   ]
  },
  {
   "cell_type": "code",
   "execution_count": 91,
   "metadata": {},
   "outputs": [
    {
     "name": "stderr",
     "output_type": "stream",
     "text": [
      "100%|██████████| 100/100 [00:26<00:00,  3.76it/s]\n",
      "100%|██████████| 100/100 [01:08<00:00,  1.45it/s]\n",
      "100%|██████████| 100/100 [03:03<00:00,  1.83s/it]\n"
     ]
    }
   ],
   "source": [
    "rmse_scratch=[]\n",
    "for i in vect_neurone:\n",
    "    model=AmbreNet()\n",
    "    model.train(hidden_layers=[i,i],learning_rate=0.01,n_iter=n_iter_fixe)\n",
    "    rmse=np.sqrt(model.mse)\n",
    "    rmse_scratch.append(rmse)\n",
    "    #print(model.training_history.shape)\n",
    "    training_final=np.c_[training_final,model.training_history]\n",
    "    test_final=np.c_[test_final,model.test_history]\n",
    "    #print(rmse)\n",
    "#print(training_final)"
   ]
  },
  {
   "cell_type": "code",
   "execution_count": 92,
   "metadata": {},
   "outputs": [],
   "source": [
    "training_final=array_map(training_final)\n",
    "test_final=array_map(test_final)"
   ]
  },
  {
   "cell_type": "markdown",
   "metadata": {},
   "source": [
    "Nous concatenons avec le vecteur des layers "
   ]
  },
  {
   "cell_type": "code",
   "execution_count": 93,
   "metadata": {},
   "outputs": [
    {
     "data": {
      "image/png": "[encoded data removed]",
      "text/plain": [
       "<Figure size 1200x400 with 2 Axes>"
      ]
     },
     "metadata": {},
     "output_type": "display_data"
    }
   ],
   "source": [
    "plt.figure(figsize=(12, 4))\n",
    "\n",
    "\n",
    "#Entrainement\n",
    "plt.subplot(1,2,1)\n",
    "plt.plot(it,training_final[:,0],\"--c\",label='RMSE Modèle 4 neurones par layers')\n",
    "plt.plot(it,training_final[:,1],\"--y\",label='RMSE Modèle 8 neurones par layers')\n",
    "plt.plot(it,training_final[:,2],\"--b\",label='RMSE Modèle 16 neurones par layers')\n",
    "plt.title(\"Graphique avec les données d'entrainement\")\n",
    "plt.xlabel(\"Nombre d'itérations\")\n",
    "plt.ylabel(\"RMSE\")\n",
    "plt.legend()\n",
    "\n",
    "#Test\n",
    "plt.subplot(1,2,2)\n",
    "plt.plot(it,test_final[:,0],\"--c\",label='RMSE Modèle 4 neurones par layers')\n",
    "plt.plot(it,test_final[:,1],\"--y\",label='RMSE Modèle 8 neurones par layers')\n",
    "plt.plot(it,test_final[:,2],\"--b\",label='RMSE Modèle 16 neurones par layers')\n",
    "plt.title(\"Graphique avec les données de tests\")\n",
    "plt.xlabel(\"Nombre d'itérations\")\n",
    "plt.ylabel(\"RMSE\")\n",
    "plt.legend()\n",
    "\n",
    "\n",
    "\n",
    "plt.show()"
   ]
  },
  {
   "cell_type": "markdown",
   "metadata": {},
   "source": [
    "**Interprétation**\n",
    "\n",
    "Comme observer ci-dessus la RMSE bien que très élevée ceci est surement dû au fait que nous ayons énormément de données et qu'il y ai un biais au niveau des données d'entrainements. En effet, nous ne savons pas si elles sont représentatives. En revanche, nous remarquons qu'il y a un surapprentissage avec 16 et 8 neurones sur les données tests et d'entrainements puisque nous pouvons observer que la RMSE réaugmente au bout de 30 itérations. Ainsi, afin d'avoir un apprentissage plus perrin il est plus judicieux de travailler avec 4 neurones par couches."
   ]
  },
  {
   "cell_type": "markdown",
   "metadata": {},
   "source": [
    "### 4.2 - Modèles de Machine Learning"
   ]
  },
  {
   "cell_type": "markdown",
   "metadata": {},
   "source": [
    "### 4.2.1 - Regression lineaire"
   ]
  },
  {
   "cell_type": "markdown",
   "metadata": {},
   "source": [
    "Dans notre problème, on a un ensemble de données sous la forme d'entrées et de sorties correspondantes, nous sommes donc dans un apprentissage supervisé. De plus, la sortie qu'on cherche est une valeur numérique, notre problème est un problème de régression. Dans notre situation on souhaiterait faire une généralisation sous la forme d'une fonction linéaire, la méthode à tester est donc : la régression linéaire."
   ]
  },
  {
   "cell_type": "code",
   "execution_count": null,
   "metadata": {
    "pycharm": {
     "is_executing": true
    }
   },
   "outputs": [],
   "source": [
    "model = linear_model.LinearRegression()\n",
    "\n",
    "dataset = load_dataset('dataset/', 'meta_data/features_hotels.csv', dtype=\"numpy\")\n",
    "\n",
    "index = int(0.2 * len(dataset.x))\n",
    "dataset.x = dataset.x[:index]\n",
    "dataset.y = dataset.y[:index]\n",
    "        \n",
    "train_set, valid_set = dataset.split(dist=[0.90])\n",
    "\n",
    "model.fit(train_set.x,train_set.y)\n",
    "\n",
    "y_predicted=[]\n",
    "for i in valid_set.x:\n",
    "    prediction = model.predict([i])\n",
    "    y_predicted.append(prediction[0])\n",
    "rmse = mean_squared_error(valid_set.y, y_predicted, squared=False)\n",
    "\n",
    "print(rmse)"
   ]
  },
  {
   "cell_type": "markdown",
   "metadata": {},
   "source": [
    "### 4.2.2 - Regression Poly"
   ]
  },
  {
   "cell_type": "markdown",
   "metadata": {},
   "source": [
    "On remarque que l' erreur quadratique moyenne prend une grande valeur (55.15) pour la régression linéaire. Avant de se lancer dans la recherche d'un algorithme d'apprentissage artificiel, testons la régression polynomiale. Dans le bloc de code suivant, nous calculons le RMSE de la régression polynomiale en fonction du degré choisi."
   ]
  },
  {
   "cell_type": "code",
   "execution_count": null,
   "metadata": {
    "pycharm": {
     "is_executing": true
    }
   },
   "outputs": [],
   "source": [
    "class Regression(MLModel):\n",
    "    def __init__(self, degree, dataset='dataset/', features_hotels='meta_data/features_hotels.csv'):\n",
    "        super().__init__(dataset, features_hotels)\n",
    "        self.dataset.to_numpy()\n",
    "        index = int(0.2 * len(self.dataset.x))\n",
    "        self.dataset.x = self.dataset.x[:index]\n",
    "        self.dataset.y = self.dataset.y[:index]\n",
    "        self.train_set, self.valid_set = self.dataset.split(dist=[0.98])\n",
    "        self.model = linear_model.LinearRegression()\n",
    "        self.poly_model = PolynomialFeatures(degree)\n",
    "\n",
    "    def train(self):\n",
    "        poly_x_train = self.poly_model.fit_transform(self.train_set.x)\n",
    "        self.model.fit(poly_x_train, self.train_set.y)\n",
    "\n",
    "    def predict(self, x):\n",
    "        poly_x_predict= self.poly_model.fit_transform([x])\n",
    "\n",
    "        return self.model.predict(poly_x_predict)[0]\n",
    "\n",
    "    def validate(self):\n",
    "        return super().validate(self.valid_set.x, self.valid_set.y)\n",
    "\n",
    "\n",
    "rmse=[]\n",
    "for i in range(1,5):\n",
    "    model = Regression(i)\n",
    "    model.train()\n",
    "    rmse.append(model.validate())\n",
    "\n",
    "plt.title(\"RMSE en fonction du degree de la regression polynomiale\")\n",
    "\n",
    "plt.plot(range(1,5), rmse, color=\"blue\")\n",
    "\n",
    "plt.show()"
   ]
  },
  {
   "cell_type": "markdown",
   "metadata": {},
   "source": [
    "La figure précédente montre que le RMSE de la régression polynomiale est décroissant en fonction du degré choisi. C'est une méthode performante en terme de précision en augmentant le degré, mais malheureusement elle demande une grande complexité temporelle à cause de l'explosion exponentielle des paramètres. Ce qui a demandé la construction d'un autre algorithme qui demande une moindre complexité."
   ]
  },
  {
   "cell_type": "markdown",
   "metadata": {},
   "source": [
    "### 4.2.4 - Regression Lasso"
   ]
  },
  {
   "cell_type": "markdown",
   "metadata": {},
   "source": [
    "Nous sommes dans le cas typique d'une regression linéaire multiple. En effet, nous devons prédire un y, ici le prix, en fonction de multiples features, x, ici, la ville, la date, le groupe, la marque, la piscine, le parking, etc. \n",
    "\n",
    "Le but est ainsi de trouver un modèle linéaire permettant de faire ces prédictions de prix au mieux. La question est quel prédicteurs, quels feautures, caractéritiques doivent être inclus dans le modèle. En effet, tous ne sont pas obligatoirement necessaires et certains sont plus importants que d'autres. \n",
    "\n",
    "L'étude de ces features permettra d'éviter les modèles avec des grands biais(sous-apprentissage) et des grandes variances(surapprentissage). Ainsi, la lasso regression permet de contraindre et réguler l'éstimation des coefficients, et même mettre à zéro les coefficients des features non nécessaires. Ceci permettra d'améliorer le modèle et de faire en sorte qu'il soit plus proche des données et fasse de meilleures prédictions.\n",
    "\n",
    "Les coeeficients de lasso vont donc minimiser la quantité suivante:\n",
    "\n",
    "$$\n",
    "\\min _{\\beta_0, \\beta_1, \\ldots, \\beta_p} \\frac{1}{2} \\sum_{i=1}^n\\left(y_i-\\beta_0-\\sum_{j=1}^p \\beta_j x_{i, j}\\right)^2+\\lambda \\sum_{j=1}^p\\left|\\beta_j\\right|\n",
    "$$\n",
    "\n",
    "Le lambda est appelé paramètre de Tuning. Celui-ci a pour objectif de controler l'impact des coefficients.\n",
    "La selection du lambda est donc très importante! Celle-ci se fait grâce à la cross-validation qui nous permettra d'avoir le meilleur lambda.\n",
    "\n",
    "\n",
    "La cross-validation : cette méthode consite à prendre le training set et à la diviser en k-folds. Le training est fait sur k-1 folds puis on évalue l'erreur grace à la MSE et ainsi de suite jusqu'à ce que tous les folds aient été pris comme test folds. Enfin, la somme de la cross_validation erreur est donnée, celle-ci étant la moyenne de toutes les MSE ayant été calculées.\n",
    "\n",
    "Ici, nous allons donc tester le RMSE en fonction des différents folds choisis et du pourcentage pris lors de la séparation du dataset en train et test set."
   ]
  },
  {
   "cell_type": "code",
   "execution_count": 99,
   "metadata": {
    "pycharm": {
     "is_executing": true
    }
   },
   "outputs": [],
   "source": [
    "from sklearn.metrics import mean_squared_error\n",
    "from sklearn.model_selection import train_test_split\n",
    "from sklearn.linear_model import LassoCV\n",
    "from sklearn.linear_model import Lasso\n",
    "\n",
    "dataset = load_dataset('./dataset','./meta_data/features_hotels.csv', dtype=\"pandas\")\n",
    "\n",
    "def lass(x_set,y_set,percentage,fold):\n",
    "    X_train, X_test, y_train, y_test = train_test_split(x_set, y_set, test_size=percentage, random_state=10)\n",
    "    # We are using LassoCV with 5 folds but we could also try with 10 folds\n",
    "    model = LassoCV(cv=fold, random_state=0, max_iter=10000)\n",
    "    # Fit model\n",
    "    model.fit(X_train, y_train)\n",
    "    # We are using the best value of alpha \n",
    "    lasso_best = Lasso(alpha=model.alpha_)\n",
    "    lasso_best.fit(X_train, y_train)\n",
    "    #Here are the coeff of the lasso regression per metrics\n",
    "    print(list(zip(lasso_best.coef_, x_set)))\n",
    "    #Compute the RMSE\n",
    "    rmse = mean_squared_error(y_test,  lasso_best.predict(X_test), squared=False)\n",
    "    return rmse"
   ]
  },
  {
   "cell_type": "code",
   "execution_count": 100,
   "metadata": {
    "pycharm": {
     "is_executing": true
    }
   },
   "outputs": [
    {
     "name": "stdout",
     "output_type": "stream",
     "text": [
      "[(-5.511236312624697, 'city'), (-2.8544662143330433, 'date'), (-0.0205926941520949, 'language'), (-0.0, 'mobile'), (0.5079495981358876, 'stock'), (8.77139612323433, 'group'), (2.261773835688916, 'brand'), (-0.0, 'parking'), (57.8469201108737, 'pool'), (22.897957401815358, 'children_policy'), (0.0, 'order_requests')]\n"
     ]
    },
    {
     "data": {
      "text/plain": [
       "55.091332939188284"
      ]
     },
     "execution_count": 100,
     "metadata": {},
     "output_type": "execute_result"
    }
   ],
   "source": [
    "lass(dataset.x,dataset.y,0.3,5)"
   ]
  },
  {
   "cell_type": "markdown",
   "metadata": {
    "pycharm": {
     "is_executing": true
    }
   },
   "source": [
    "**Interprétation**:\n",
    "\n",
    "La lasso regression trouve que :\n",
    "\n",
    "- Language,\n",
    "- Le mobile,\n",
    "- Le Parking,\n",
    "- L'order request\n",
    "\n",
    "n'ont pas d'impact sur le prix.\n",
    "\n",
    "Les caractéristiques qui semblent le plus en avoir sont la politique appliquée concernant les enfants et la piscine."
   ]
  },
  {
   "cell_type": "markdown",
   "metadata": {
    "pycharm": {
     "is_executing": true
    }
   },
   "source": [
    "**Tests**\n",
    "\n",
    "Nous allons dans cette partie faire des tests sur les paramètres afin de comprendre comment ils impactent le résultat de RMSE."
   ]
  },
  {
   "cell_type": "code",
   "execution_count": 101,
   "metadata": {
    "pycharm": {
     "is_executing": true
    }
   },
   "outputs": [],
   "source": [
    "#Pourcentage de test set\n",
    "vect_para_lass_1=np.linspace(0.1,0.3,6)\n",
    "#Folds\n",
    "vect_para_lass_2=np.linspace(5,20,4,dtype=np.int32)"
   ]
  },
  {
   "cell_type": "code",
   "execution_count": 102,
   "metadata": {
    "pycharm": {
     "is_executing": true
    }
   },
   "outputs": [
    {
     "data": {
      "text/plain": [
       "array([0.1 , 0.14, 0.18, 0.22, 0.26, 0.3 ])"
      ]
     },
     "execution_count": 102,
     "metadata": {},
     "output_type": "execute_result"
    }
   ],
   "source": [
    "vect_para_lass_1"
   ]
  },
  {
   "cell_type": "code",
   "execution_count": 103,
   "metadata": {
    "pycharm": {
     "is_executing": true
    }
   },
   "outputs": [
    {
     "data": {
      "text/plain": [
       "array([ 5, 10, 15, 20])"
      ]
     },
     "execution_count": 103,
     "metadata": {},
     "output_type": "execute_result"
    }
   ],
   "source": [
    "vect_para_lass_2"
   ]
  },
  {
   "cell_type": "markdown",
   "metadata": {},
   "source": [
    "**a) Variation du test set**"
   ]
  },
  {
   "cell_type": "code",
   "execution_count": 104,
   "metadata": {},
   "outputs": [
    {
     "name": "stdout",
     "output_type": "stream",
     "text": [
      "[(-5.508967278787908, 'city'), (-2.859925886451934, 'date'), (-0.022043326572408404, 'language'), (-0.0, 'mobile'), (0.5089805463133518, 'stock'), (8.748762455453175, 'group'), (2.2672025085674274, 'brand'), (-0.0, 'parking'), (58.00303321897557, 'pool'), (22.91164728870351, 'children_policy'), (0.0, 'order_requests')]\n",
      "[(-5.505130792014191, 'city'), (-2.8593911529745526, 'date'), (-0.020847724001543614, 'language'), (-0.0, 'mobile'), (0.5089707490579126, 'stock'), (8.741946571191251, 'group'), (2.2691466247951864, 'brand'), (-0.0, 'parking'), (57.953513378825456, 'pool'), (22.890983631083287, 'children_policy'), (0.0, 'order_requests')]\n",
      "[(-5.516926505058407, 'city'), (-2.8585662669177068, 'date'), (-0.019734191602324844, 'language'), (-0.0, 'mobile'), (0.5092065811228452, 'stock'), (8.733502116742173, 'group'), (2.2656212789709107, 'brand'), (-0.0, 'parking'), (57.90735354024571, 'pool'), (22.93625387885515, 'children_policy'), (0.0, 'order_requests')]\n",
      "[(-5.520402676579362, 'city'), (-2.857999312552789, 'date'), (-0.020503467482119016, 'language'), (-0.0, 'mobile'), (0.508905395102906, 'stock'), (8.756953385226584, 'group'), (2.261419437539304, 'brand'), (-0.0, 'parking'), (57.9363387246489, 'pool'), (22.91483109223672, 'children_policy'), (0.0, 'order_requests')]\n",
      "[(-5.520917841748882, 'city'), (-2.8591248262308677, 'date'), (-0.01803477529760859, 'language'), (-0.0, 'mobile'), (0.508804072941689, 'stock'), (8.76610175445512, 'group'), (2.2600514828660976, 'brand'), (-0.0, 'parking'), (57.85661576596198, 'pool'), (22.8334243079995, 'children_policy'), (0.0, 'order_requests')]\n"
     ]
    },
    {
     "name": "stderr",
     "output_type": "stream",
     "text": [
      "No artists with labels found to put in legend.  Note that artists whose label start with an underscore are ignored when legend() is called with no argument.\n"
     ]
    },
    {
     "name": "stdout",
     "output_type": "stream",
     "text": [
      "[(-5.511236312624697, 'city'), (-2.8544662143330433, 'date'), (-0.0205926941520949, 'language'), (-0.0, 'mobile'), (0.5079495981358876, 'stock'), (8.77139612323433, 'group'), (2.261773835688916, 'brand'), (-0.0, 'parking'), (57.8469201108737, 'pool'), (22.897957401815358, 'children_policy'), (0.0, 'order_requests')]\n"
     ]
    },
    {
     "data": {
      "image/png": "[encoded data removed]",
      "text/plain": [
       "<Figure size 640x480 with 1 Axes>"
      ]
     },
     "metadata": {},
     "output_type": "display_data"
    }
   ],
   "source": [
    "rmse_list=[]\n",
    "for i in vect_para_lass_1:\n",
    "    rmse=lass(dataset.x,dataset.y,i,10)\n",
    "    rmse_list.append(rmse)\n",
    "plt.plot(vect_para_lass_1,rmse_list)  \n",
    "plt.xlabel(\"% de test set\")\n",
    "plt.ylabel(\"RMSE\")\n",
    "plt.title(\"Graphique représentant la RMSE en fonction du pourcentage de test set\")\n",
    "plt.legend()\n",
    "plt.show()\n",
    "#lass(x_data_set,y_data_set,0.2,10)"
   ]
  },
  {
   "cell_type": "markdown",
   "metadata": {},
   "source": [
    "**Interprétation**:\n",
    "\n",
    "Nous remarquons qu'il est important d'avoir un minimum de 25% de test set pour avoir une meilleure précision sur les résultats."
   ]
  },
  {
   "cell_type": "markdown",
   "metadata": {},
   "source": [
    "**b)Test sur folds**"
   ]
  },
  {
   "cell_type": "code",
   "execution_count": 105,
   "metadata": {},
   "outputs": [
    {
     "name": "stdout",
     "output_type": "stream",
     "text": [
      "[(-5.517693229341647, 'city'), (-2.8569016265778693, 'date'), (-0.020078131095631134, 'language'), (-0.0, 'mobile'), (0.5087527552692815, 'stock'), (8.735267264457121, 'group'), (2.268002135910511, 'brand'), (-0.0, 'parking'), (57.90978201605282, 'pool'), (22.87771501357326, 'children_policy'), (0.0, 'order_requests')]\n",
      "[(-5.517693229341647, 'city'), (-2.8569016265778693, 'date'), (-0.020078131095631134, 'language'), (-0.0, 'mobile'), (0.5087527552692815, 'stock'), (8.735267264457121, 'group'), (2.268002135910511, 'brand'), (-0.0, 'parking'), (57.90978201605282, 'pool'), (22.87771501357326, 'children_policy'), (0.0, 'order_requests')]\n",
      "[(-5.517693229341647, 'city'), (-2.8569016265778693, 'date'), (-0.020078131095631134, 'language'), (-0.0, 'mobile'), (0.5087527552692815, 'stock'), (8.735267264457121, 'group'), (2.268002135910511, 'brand'), (-0.0, 'parking'), (57.90978201605282, 'pool'), (22.87771501357326, 'children_policy'), (0.0, 'order_requests')]\n"
     ]
    },
    {
     "name": "stderr",
     "output_type": "stream",
     "text": [
      "No artists with labels found to put in legend.  Note that artists whose label start with an underscore are ignored when legend() is called with no argument.\n"
     ]
    },
    {
     "name": "stdout",
     "output_type": "stream",
     "text": [
      "[(-5.517693229341647, 'city'), (-2.8569016265778693, 'date'), (-0.020078131095631134, 'language'), (-0.0, 'mobile'), (0.5087527552692815, 'stock'), (8.735267264457121, 'group'), (2.268002135910511, 'brand'), (-0.0, 'parking'), (57.90978201605282, 'pool'), (22.87771501357326, 'children_policy'), (0.0, 'order_requests')]\n"
     ]
    },
    {
     "data": {
      "image/png": "[encoded data removed]",
      "text/plain": [
       "<Figure size 640x480 with 1 Axes>"
      ]
     },
     "metadata": {},
     "output_type": "display_data"
    }
   ],
   "source": [
    "rmse_list=[]\n",
    "for i in vect_para_lass_2:\n",
    "    rmse=lass(dataset.x,dataset.y,0.2,i)\n",
    "    rmse_list.append(rmse)\n",
    "plt.plot(vect_para_lass_2,rmse_list)   \n",
    "plt.xlabel(\"Nombre de folds\")\n",
    "plt.ylabel(\"RMSE\")\n",
    "plt.title(\"Graphique représentant la RMSE en fonction du nombre de folds choisis\")\n",
    "plt.legend()\n",
    "plt.show()"
   ]
  },
  {
   "cell_type": "markdown",
   "metadata": {},
   "source": [
    "**Interprétation**:\n",
    "\n",
    "Le nombre de folds n'a aucun effet sur le résultat de la RMSE. En effet, le lambda est le même quel que soit le nombre de folds.\n",
    "Ainsi, ce résultat est rassurant puisqu'il laisse penser que c'est toujours le meilleur lambda qui est choisi."
   ]
  },
  {
   "cell_type": "markdown",
   "metadata": {},
   "source": [
    "### 4.3 - Modèles pytorch"
   ]
  },
  {
   "cell_type": "markdown",
   "metadata": {},
   "source": [
    "L’entrainement d’un modèle pytorch necessite la création de deux classes :\n",
    "-\tUne classe modèle ici appelée NNModel(Module) se trouvant dans le module neuralnet\n",
    "-\tUne classe d’entrainement DeepLearningModel(MLModel) se trouvant dans le module DeepLModel\n",
    "\n",
    "La classe modèle permet de définir le modèle et ses couches ainsi que les différentes fonctions d’activation utilisées avec une méthode de forward propagation.\n",
    "\n",
    "Dans un second temps, il existe la classe d’entrainement du modèle. Celle-ci permet d’entrainer les données après les avoir extraites du dataloader pytorch (cf. Explication section 4.2). Cette classe se compose de plusieurs méthodes :\n",
    "-\tGénérateur, permet d'importer les données depuis le dataloader, après transformation\n",
    "-\tUne méthode train, permet d'entrainer le modèle\n",
    "-\tUne méthode predict, permet de faire des prévisions sur le data set test\n",
    "-\tUne méthode validate, permet de faire des prévisions sur le data set de valisation \n",
    "-\tUne méthode load test set \n",
    "\n",
    "La méthode train s'executera de la manière suivante pour chaque epoch:\n",
    "\n",
    "1)\tBoucle d’entrainement:\n",
    "\n",
    "        o\tApplication de la Forward Pass designée dans le modèle,\n",
    "        o\tCalcul du loss,\n",
    "        o\tBackward Pass,\n",
    "        o\tMise à jour des gradients,\n",
    "        o\tMettre les gradients à zéro afin d’éviter qu’ils s’ajoutent au fur et à mesure des epoch.\n",
    "        \n",
    "        \n",
    "2)\tCalcul de la loss value sur le dataset d’entrainement et de validation"
   ]
  },
  {
   "cell_type": "markdown",
   "metadata": {},
   "source": [
    "<p style='text-align: justify;'> Pour avoir un modèle donnant de bons résultats, on va tester plusieurs architectures ainsi que plusieurs jeux d'hyperparametres. On va effectuer des tests sur les parametres suivants:</p>\n",
    "\n",
    "- Méthode d'optimisation\n",
    "- Fonction d'activation\n",
    "- Taux d'apprentissage\n",
    "- Taille des minibatchs\n",
    "- Nombre de couches\n",
    "- Nombre de neurones par couche\n",
    "- Présence de couche de Dropout\n",
    "\n",
    "<p style='text-align: justify;'>On commence par importer l'ensemble des éleements dont on a besoin pour éffectuer ces tests puis on définit le modèle de base servant à réalisé la plupart des tests de la liste précedente. Ce modèle de base est composé de 3 couches completements connectées (109,109,1) utilisant la fonction d'activation tangente hyperbolique entre la couche 1 et 2.</p>\n",
    "\n",
    "Pour diminuer le temps de calcul des tests, ceux ci se feront sur 15 epochs seulement."
   ]
  },
  {
   "cell_type": "code",
   "execution_count": 34,
   "metadata": {
    "pycharm": {
     "is_executing": true
    }
   },
   "outputs": [],
   "source": [
    "# Importation des classes permettant de construire un réseau de neurones\n",
    "from torch.nn import Linear, Module, Dropout\n",
    "\n",
    "# Importation des fonctions d'optimisation\n",
    "from torch.optim import Adam, SGD, Adagrad, RMSprop\n",
    "\n",
    "# Importation des fonctions d'activation\n",
    "from torch.nn.functional import tanh, sigmoid, relu, elu, leaky_relu\n",
    "\n",
    "# Nombre d'epoch pour effectuer les tests sur les différents paramètres\n",
    "epochs=15\n",
    "\n",
    "# Modèle de base servant à effectuer la plupart des tests\n",
    "class NNModel(Module):\n",
    "    def __init__(self,activation=tanh):\n",
    "        super().__init__()\n",
    "        self.input = Linear(109, 109)\n",
    "        self.output = Linear(109, 1)\n",
    "        self.activation = activation\n",
    "\n",
    "    def forward(self, x):\n",
    "        x = self.activation(self.input(x))\n",
    "        return self.output(x)\n",
    "\n",
    "    def load(self, model_path):\n",
    "        self.load_state_dict(torch.load(model_path))\n",
    "        self.eval()\n",
    "\n",
    "# Fonction pour afficher les graphiques des tests avec matplotlib\n",
    "def display(loss,parameter,keys=None):\n",
    "    x = list(range(1, len(loss[0][0]) + 1))\n",
    "\n",
    "    for j,i in enumerate(loss):\n",
    "        label=list(parameter.keys())[j]\n",
    "        if keys is None or label in keys:\n",
    "            plt.plot(x, np.sqrt(i[1]), label=label)\n",
    "\n",
    "    plt.xlabel(\"Epoch\")\n",
    "    plt.ylabel(\"RMSE\")\n",
    "    plt.legend()\n",
    "    plt.show()"
   ]
  },
  {
   "cell_type": "markdown",
   "metadata": {},
   "source": [
    "#### 4.3.1 - Choix de la méthode d'optimisation\n",
    "\n",
    "<p style='text-align: justify;'> On commence par tester différentes méthodes d'optimisation pour déterminer celle qui permet d'obtenir une convergence rapide avec de bons résultats. On va tester les algorithmes suivants:</p>\n",
    "\n",
    "- Adam\n",
    "- Stochastic gradient descent\n",
    "- Adagrad\n",
    "- RMSprop"
   ]
  },
  {
   "cell_type": "code",
   "execution_count": 42,
   "metadata": {
    "pycharm": {
     "is_executing": true
    }
   },
   "outputs": [],
   "source": [
    "optimizer = {\"Adam\":Adam, \"Stochastic GD\":SGD, \"Adagrad\":Adagrad, \"RMSProp\":RMSprop}\n",
    "loss_opt = []"
   ]
  },
  {
   "cell_type": "code",
   "execution_count": 43,
   "metadata": {
    "pycharm": {
     "is_executing": true
    }
   },
   "outputs": [
    {
     "name": "stdout",
     "output_type": "stream",
     "text": [
      "Training of the pytorch model using the Adam optimizer\n",
      "Training of the pytorch model using the Stochastic GD optimizer\n",
      "Training of the pytorch model using the Adagrad optimizer\n",
      "Training of the pytorch model using the RMSProp optimizer\n"
     ]
    }
   ],
   "source": [
    "for i,optim in enumerate(optimizer.values()):\n",
    "    model = NNModel()\n",
    "    nn = DeepLearningModel(model)\n",
    "    print(f\"Training of the pytorch model using the {list(optimizer.keys())[i]} optimizer\")\n",
    "    loss_values, val_loss_values = nn.train(optimizer=optim,epochs=epochs, learning_rate=0.001, batch_size=16)\n",
    "    loss_opt.append([loss_values,val_loss_values])"
   ]
  },
  {
   "cell_type": "code",
   "execution_count": 44,
   "metadata": {
    "pycharm": {
     "is_executing": true
    }
   },
   "outputs": [
    {
     "data": {
      "image/png": "[encoded data removed]",
      "text/plain": [
       "<Figure size 640x480 with 1 Axes>"
      ]
     },
     "metadata": {},
     "output_type": "display_data"
    }
   ],
   "source": [
    "display(loss_opt,optimizer)"
   ]
  },
  {
   "cell_type": "code",
   "execution_count": 48,
   "metadata": {},
   "outputs": [
    {
     "data": {
      "image/png": "[encoded data removed]",
      "text/plain": [
       "<Figure size 640x480 with 1 Axes>"
      ]
     },
     "metadata": {},
     "output_type": "display_data"
    }
   ],
   "source": [
    "image = img.imread('./img/optimizer.png')\n",
    "plt.imshow(image)\n",
    "plt.show()"
   ]
  },
  {
   "cell_type": "markdown",
   "metadata": {},
   "source": [
    "Sur le graphique ci-dessus, on peut remarquer que les méthodes d'optimisation offrant les meilleurs résultats sont les algorithmes Adam et RMSProp. On ne peut cependant pas determiner lequel des deux est le meilleur. Pour cela on va générer un nouveaux graphique contenant uniquement ces deux algorithmes."
   ]
  },
  {
   "cell_type": "code",
   "execution_count": 45,
   "metadata": {
    "pycharm": {
     "is_executing": true
    }
   },
   "outputs": [
    {
     "data": {
      "image/png": "[encoded data removed]",
      "text/plain": [
       "<Figure size 640x480 with 1 Axes>"
      ]
     },
     "metadata": {},
     "output_type": "display_data"
    }
   ],
   "source": [
    "display(loss_opt,optimizer,keys=['Adam','RMSProp'])"
   ]
  },
  {
   "cell_type": "code",
   "execution_count": null,
   "metadata": {},
   "outputs": [],
   "source": []
  },
  {
   "cell_type": "markdown",
   "metadata": {},
   "source": [
    "Sur ce deuxieme graphique, on peut voir que l'algorithme RMSProp est légerement meilleur que l'algorithme Adam. On choisira donc l'algorithme RMSProp pour la suite des tests."
   ]
  },
  {
   "cell_type": "markdown",
   "metadata": {},
   "source": [
    "#### 4.3.2 - Choix de la fonction d'activation\n",
    "\n",
    "Pour ce test, on va modifier le modèle de base pour tester les fonctions d'activation suivantes:\n",
    "\n",
    "- Relu\n",
    "- Sigmoid\n",
    "- Tanh\n",
    "- Elu\n",
    "- Leaky relu\n",
    "\n",
    "Vu que nous avons à faire un problème de regression, nous n'avons pas besoin de mettre de fonction d'activation sur la derniere couche."
   ]
  },
  {
   "cell_type": "code",
   "execution_count": null,
   "metadata": {
    "pycharm": {
     "is_executing": true
    }
   },
   "outputs": [],
   "source": [
    "activation = {\"Relu\":relu, \"Sigmoid\":sigmoid, \"Tanh\":tanh, \"Elu\":elu, \"Leaky relu\":leaky_relu}\n",
    "loss_act = []"
   ]
  },
  {
   "cell_type": "code",
   "execution_count": null,
   "metadata": {
    "pycharm": {
     "is_executing": true
    }
   },
   "outputs": [],
   "source": [
    "for i,act in enumerate(activation.values()):\n",
    "    model = NNModel(activation=act)\n",
    "    nn = DeepLearningModel(model)\n",
    "    print(f\"Training of the pytorch model using the {list(activation.keys())[i]} activation function\")\n",
    "    loss_values, val_loss_values = nn.train(optimizer=RMSprop, epochs=epochs, learning_rate=0.001, batch_size=16)\n",
    "    loss_act.append([loss_values,val_loss_values])"
   ]
  },
  {
   "cell_type": "code",
   "execution_count": null,
   "metadata": {
    "pycharm": {
     "is_executing": true
    }
   },
   "outputs": [],
   "source": [
    "display(loss_act,activation)"
   ]
  },
  {
   "cell_type": "markdown",
   "metadata": {},
   "source": [
    "D'apres le graphique ci-dessus, la fonction d'activation permettant d'obtenir les meilleurs résultats est la fonction tangente hyperbolique. On utilisera cette fonction pour la suite des tests.\n",
    "\n",
    "#### 4.3.3 - Choix du learning rate\n",
    "\n",
    "Le learning rate a un impact sur la convergence du modèle, on va tester différents learning rate et choisir celui avec la meilleure convergence."
   ]
  },
  {
   "cell_type": "code",
   "execution_count": null,
   "metadata": {
    "pycharm": {
     "is_executing": true
    }
   },
   "outputs": [],
   "source": [
    "lr = {\"0.1\":0.1, \"0.01\":0.01, \"0.001\":0.001}\n",
    "loss_lr = []"
   ]
  },
  {
   "cell_type": "code",
   "execution_count": null,
   "metadata": {
    "pycharm": {
     "is_executing": true
    }
   },
   "outputs": [],
   "source": [
    "for j,i in enumerate(lr.values()):\n",
    "    model = NNModel()\n",
    "    nn = DeepLearningModel(model)\n",
    "    print(f\"Training of the pytorch model using a learning rate of {list(lr.keys())[j]}\")\n",
    "    loss_values, val_loss_values = nn.train(optimizer=RMSprop, epochs=epochs, learning_rate=i, batch_size=16)\n",
    "    loss_lr.append([loss_values,val_loss_values])"
   ]
  },
  {
   "cell_type": "code",
   "execution_count": null,
   "metadata": {
    "pycharm": {
     "is_executing": true
    }
   },
   "outputs": [],
   "source": [
    "display(loss_lr,lr)"
   ]
  },
  {
   "cell_type": "markdown",
   "metadata": {},
   "source": [
    "On peut remarquer sur le graphique ci-dessus, que la valeur de learning rate permetant d'obtenir la meilleure convergence est 0.001, on va donc utiliser cette valeur pour la suite des tests.\n",
    "\n",
    "#### 4.3.4 - Choix de la taille des batchs\n",
    "\n",
    "La taille des batchs a un impact sur l'algorithme d'optimisation et donc sur la convergence du modèle. On va tester plusieurs tailles différentes et choisir celle qui donne les meilleurs résultats."
   ]
  },
  {
   "cell_type": "code",
   "execution_count": null,
   "metadata": {
    "pycharm": {
     "is_executing": true
    }
   },
   "outputs": [],
   "source": [
    "batch = {\"16\":16, \"32\":32, \"64\":64}\n",
    "loss_bt = []"
   ]
  },
  {
   "cell_type": "code",
   "execution_count": null,
   "metadata": {
    "pycharm": {
     "is_executing": true
    }
   },
   "outputs": [],
   "source": [
    "for i,bt in enumerate(batch.values()):\n",
    "    model = NNModel()\n",
    "    nn = DeepLearningModel(model)\n",
    "    print(f\"Training of the pytorch model using a batch size of {bt}\")\n",
    "    loss_values, val_loss_values = nn.train(optimizer=RMSprop, epochs=epochs, learning_rate=0.001, batch_size=bt)\n",
    "    loss_bt.append([loss_values,val_loss_values])"
   ]
  },
  {
   "cell_type": "code",
   "execution_count": null,
   "metadata": {
    "pycharm": {
     "is_executing": true
    }
   },
   "outputs": [],
   "source": [
    "display(loss_bt,batch)"
   ]
  },
  {
   "cell_type": "markdown",
   "metadata": {},
   "source": [
    "D'apres le graphique ci-dessous, la taille des batchs n'a pas un impact important sur la convergence. On prendra des batchs de taille 64 pour la suite des tests.\n",
    "\n",
    "#### 4.3.5 - Choix du nombre de couches\n",
    "\n",
    "Le nombre de parametres du modèle dépend du nombre de couche que l'on choisi ainsi que du nombre de neurones pour chaque couche. Le nombre de parametres impact directement l'apprentissage, trop peu de parametres et on risque le sous-apprentissage, trop de parametres et on risque le sur-apprentissage. On va donc tester des modèles avec des nombres de couches différentes et des nombres de neurones différents."
   ]
  },
  {
   "cell_type": "code",
   "execution_count": null,
   "metadata": {
    "pycharm": {
     "is_executing": true
    }
   },
   "outputs": [],
   "source": [
    "class Deux_Couches(Module):\n",
    "    def __init__(self,hid=109,activation=tanh):\n",
    "        super().__init__()\n",
    "        self.input = Linear(109, hid)\n",
    "        self.output = Linear(hid, 1)\n",
    "        self.activation = activation\n",
    "\n",
    "    def forward(self, x):\n",
    "        x = self.activation(self.input(x))\n",
    "        return self.output(x)\n",
    "\n",
    "class Trois_Couches(Module):\n",
    "    def __init__(self,hid_1=109,hid_2=109,activation=tanh):\n",
    "        super().__init__()\n",
    "        self.input = Linear(109, hid_1)\n",
    "        self.hidden = Linear(hid_1, hid_2)\n",
    "        self.output = Linear(hid_2, 1)\n",
    "        self.activation = activation\n",
    "\n",
    "    def forward(self, x):\n",
    "        x = self.activation(self.input(x))\n",
    "        x = self.activation(self.hidden(x))\n",
    "        return self.output(x)\n",
    "    \n",
    "class Quatre_Couches(Module):\n",
    "    def __init__(self,hid_1=109,hid_2=109,hid_3=109,activation=tanh):\n",
    "        super().__init__()\n",
    "        self.input = Linear(109, hid_1)\n",
    "        self.hidden = Linear(hid_1, hid_2)\n",
    "        self.hidden_2 = Linear(hid_2, hid_3)\n",
    "        self.output = Linear(hid_3, 1)\n",
    "        self.activation = activation\n",
    "\n",
    "    def forward(self, x):\n",
    "        x = self.activation(self.input(x))\n",
    "        x = self.activation(self.hidden(x))\n",
    "        x = self.activation(self.hidden_2(x))\n",
    "        return self.output(x)"
   ]
  },
  {
   "cell_type": "code",
   "execution_count": null,
   "metadata": {
    "pycharm": {
     "is_executing": true
    }
   },
   "outputs": [],
   "source": [
    "model = {\n",
    "    \"109 109 1\":Deux_Couches(),\n",
    "    \"109 109 109 1\":Trois_Couches(),\n",
    "    \"109 109 109 109 1\":Quatre_Couches(),\n",
    "    \"109 54 1\":Deux_Couches(54),\n",
    "    \"109 218 1\":Deux_Couches(218),\n",
    "    \"109 109 54 1\":Trois_Couches(hid_2=54),\n",
    "    \"109 54 109 1\":Trois_Couches(hid_1=54),\n",
    "    \"109 109 54 54 1\":Quatre_Couches(hid_2=54,hid_3=54)\n",
    "}\n",
    "loss_model = []"
   ]
  },
  {
   "cell_type": "code",
   "execution_count": null,
   "metadata": {
    "pycharm": {
     "is_executing": true
    }
   },
   "outputs": [],
   "source": [
    "for i,mod in enumerate(model.values()):\n",
    "    nn = DeepLearningModel(mod)\n",
    "    print(f\"Training of the pytorch model ({list(model.keys())[i]})\")\n",
    "    loss_values, val_loss_values = nn.train(optimizer=RMSprop, epochs=epochs, learning_rate=0.001, batch_size=64)\n",
    "    loss_model.append([loss_values,val_loss_values])"
   ]
  },
  {
   "cell_type": "code",
   "execution_count": null,
   "metadata": {
    "pycharm": {
     "is_executing": true
    }
   },
   "outputs": [],
   "source": [
    "display(loss_model,model)"
   ]
  },
  {
   "cell_type": "markdown",
   "metadata": {
    "pycharm": {
     "is_executing": true
    }
   },
   "source": [
    "D'apres le graphique précédent, on peut voir que les modèles ayant 1 ou 2 couches cachées donnent les meilleurs résultats, on va afficher uniquement ces modèles sur le graphique suivant."
   ]
  },
  {
   "cell_type": "code",
   "execution_count": null,
   "metadata": {
    "pycharm": {
     "is_executing": true
    }
   },
   "outputs": [],
   "source": [
    "display(loss_model,model,keys=[\"109 109 109 109 1\",\"109 109 109 1\",\"109 109 54 1\",\"109 54 109 1\"])"
   ]
  },
  {
   "cell_type": "markdown",
   "metadata": {},
   "source": [
    "Pour la suite on va choisir le modèle (109,109,109,1) car il contient une couche de moins que le meilleur modèle tout en donnant des résultats équivalents.\n",
    "\n",
    "#### 4.3.6 - Avec ou sans Dropout\n",
    "\n",
    "La régularisation par dropout permet d'ameliorer la généralisation du modèle et d'eviter le sur apprentissage."
   ]
  },
  {
   "cell_type": "code",
   "execution_count": null,
   "metadata": {
    "pycharm": {
     "is_executing": true
    }
   },
   "outputs": [],
   "source": [
    "class AvecDropout(Module):\n",
    "    def __init__(self,dp=True,coef=0.2):\n",
    "        super().__init__()\n",
    "        self.input = Linear(109, 109)\n",
    "        self.hidden = Linear(109, 109)\n",
    "        self.output = Linear(109, 1)\n",
    "        self.dropout = Dropout(coef)\n",
    "        self.dp = dp\n",
    "\n",
    "    def forward(self, x):\n",
    "        x = tanh(self.input(x))\n",
    "        if self.dp:\n",
    "            x = self.dropout(x)\n",
    "        x = tanh(self.hidden(x))\n",
    "        if self.dp:\n",
    "            x = self.dropout(x)\n",
    "        return self.output(x)"
   ]
  },
  {
   "cell_type": "code",
   "execution_count": null,
   "metadata": {
    "pycharm": {
     "is_executing": true
    }
   },
   "outputs": [],
   "source": [
    "dropout = {\n",
    "    \"with Dropout\":AvecDropout(),\n",
    "    \"without Dropout\":AvecDropout(False),\n",
    "}\n",
    "loss_dp = []"
   ]
  },
  {
   "cell_type": "code",
   "execution_count": null,
   "metadata": {
    "pycharm": {
     "is_executing": true
    }
   },
   "outputs": [],
   "source": [
    "for i,dp in enumerate(dropout.values()):\n",
    "    nn = DeepLearningModel(dp)\n",
    "    print(f\"Training of the pytorch model (109 109 109 1) {list(dropout.keys())[i]}\")\n",
    "    loss_values, val_loss_values = nn.train(optimizer=RMSprop, epochs=epochs, learning_rate=0.001, batch_size=64)\n",
    "    loss_dp.append([loss_values,val_loss_values])"
   ]
  },
  {
   "cell_type": "code",
   "execution_count": null,
   "metadata": {
    "pycharm": {
     "is_executing": true
    }
   },
   "outputs": [],
   "source": [
    "display(loss_dp,dropout)"
   ]
  },
  {
   "cell_type": "markdown",
   "metadata": {},
   "source": [
    "On remarque sur le graphique précedent que en ajoutant la régularisation, on obtient une légère amelioration du modèle. On va maintenant essayer de déterminer le coefficient de dropout."
   ]
  },
  {
   "cell_type": "code",
   "execution_count": null,
   "metadata": {
    "pycharm": {
     "is_executing": true
    }
   },
   "outputs": [],
   "source": [
    "dropout_coef = {\n",
    "    \"0.1\":AvecDropout(coef=0.1),\n",
    "    \"0.2\":AvecDropout(coef=0.2),\n",
    "    \"0.3\":AvecDropout(coef=0.3),\n",
    "    \"0.4\":AvecDropout(coef=0.4),\n",
    "    \"0.5\":AvecDropout(coef=0.5)\n",
    "}\n",
    "loss_dp_coef = []"
   ]
  },
  {
   "cell_type": "code",
   "execution_count": null,
   "metadata": {
    "pycharm": {
     "is_executing": true
    }
   },
   "outputs": [],
   "source": [
    "for i,dp in enumerate(dropout_coef.values()):\n",
    "    nn = DeepLearningModel(dp)\n",
    "    print(f\"Training of the pytorch model (109 109 109 1) with dropout coef of {list(dropout_coef.keys())[i]}\")\n",
    "    loss_values, val_loss_values = nn.train(optimizer=RMSprop, epochs=epochs, learning_rate=0.001, batch_size=64)\n",
    "    loss_dp_coef.append([loss_values,val_loss_values])"
   ]
  },
  {
   "cell_type": "code",
   "execution_count": null,
   "metadata": {
    "pycharm": {
     "is_executing": true
    }
   },
   "outputs": [],
   "source": [
    "display(loss_dp_coef,dropout_coef)"
   ]
  },
  {
   "cell_type": "markdown",
   "metadata": {},
   "source": [
    "En observant le graphique ci-dessus, on peut noter que le paramètre du Dropout n'a pas d'impact sur la convergence du modèle, donc on peut garder cette valeur à 0.2."
   ]
  },
  {
   "cell_type": "markdown",
   "metadata": {
    "pycharm": {
     "is_executing": true
    }
   },
   "source": [
    "## 5 - Conclusion"
   ]
  },
  {
   "cell_type": "markdown",
   "metadata": {},
   "source": [
    "<p style='text-align: justify;'>Pour conclure sur ce projet on va commencer par rappeler les objectifs initiaux du projet. Pour rappel, ce projet est basé sur le challenge « challenge IA 2023 » disponible sur la plateforme Kaggle et organisé par l’INRIA. Ce challenge traite du prix des chambres d’hôtels dans plusieurs villes européennes dans le but de détecter les hôtels proposant des prix frauduleux en fonction des clients. Ce challenge est donc un problème de régression où il faut effectuer des estimations de prix de chambres d’hôtels en se basant sur un certain nombre de features (en relation avec les clients et les hôtels). La particularité de ce challenge est qu’il n’y a pas de jeu de données fourni par l’organisateur et il faut donc le construire nous-mêmes grâce à une API fournie par l’INRIA. Cette API permet d’obtenir des prix de chambres d’hôtels en réalisant des requêtes qui correspondent à des fausses réservations de chambre d’hôtels. Pour éviter que les hôtels ne se rendent compte que l’on effectue une enquête, l’INRIA nous limite à 1000 requêtes par semaine. La difficulté du premier aspect du challenge était de faire en sorte que le jeu de données que l’on construit soit représentatif de la population des prix de chambres d’hôtels. La deuxième tache que l’on devait réaliser dans le cadre de ce challenge était le développement de modèles de régression pour effectuer les estimations des prix de chambres d’hôtels. Ces modèles de régression ont été entrainé sur le jeu de données que l’on a précédemment construit. Ces modèles dépendent grandement de la qualité du jeu de données. L’INRIA a mis à disposition un jeu de données spécial appelé « test set » qui est composé de l’ensemble des features et sur lequel on doit pour chaque ligne faire une estimation du prix de la réservation. Ce jeu de données a pour but d’avoir une base commune entre compétiteurs pour pouvoir comparer nos modèles respectifs. On doit ensuite déposer le fichier contenant l’ensemble des estimations sur Kaggle pour obtenir un score.</p>"
   ]
  },
  {
   "cell_type": "markdown",
   "metadata": {},
   "source": [
    "Pour développer le meilleur modèle possible pour résoudre ce challenge, nous avons testé plusieurs approches en appliquant les méthodes de machine Learning et de deep Learning suivantes :\n",
    "\n",
    "- Regression Linéaires et polynomiales\n",
    "- Regression de Lasso et Ridge\n",
    "- Réseau de neurones from scratch et en utilisant Pytorch\n"
   ]
  },
  {
   "cell_type": "markdown",
   "metadata": {},
   "source": [
    "Le tableau ci-dessous résume les performance de chaque modèle à la fois sur le jeu de données que nous avons construit et sur le jeu de données fournit par l'INRIA pour éffectuer nos sousmissions.\n",
    "\n",
    "|                     | Régression Lineaire | Régression Polynomiale | Régression Lasso | Régression Ridge | Réseau de neurone from scratch | Réseau de neurone Pytorch |\n",
    "| :-----------------: | :----------: | :----------: | :----------: | :----------: | :----------: | :----------: |\n",
    "| **Test set**        | test | test | test | test | test | test | \n",
    "| **Submission test** | test | test | test | test | test | test |"
   ]
  },
  {
   "cell_type": "markdown",
   "metadata": {},
   "source": [
    "Expliquer la différence de résultat"
   ]
  },
  {
   "cell_type": "markdown",
   "metadata": {},
   "source": [
    "## 6 - Annexes"
   ]
  },
  {
   "cell_type": "markdown",
   "metadata": {},
   "source": [
    "### 6.1 - Librarie de réseau de neurones from scratch"
   ]
  },
  {
   "cell_type": "markdown",
   "metadata": {},
   "source": [
    "Pour donner suite à l'implementation from scractch de réseaux de neurones en utilisant des fonctions (cf 4.1.1) comme nous avons vu en TP et en cours. Nous avons décidé de développé un packages python permettant d'implementer des réseaux de neuronnes comme on le ferait si on utilisait un framework python comme Pytorch ou keras/tensorflow. \n",
    "\n",
    "Ce package se base sur l'utilisation de la programation orientée objet classique (classe, heritage, polymorphisme, etc..) ainsi que sur l'utilisation de patrons de conception (Streategy) pour permettre une plus grande modularité du code.\n",
    "\n",
    "On a identifié différents elements necessaires pour pouvoir implementer un réseau de neurones (ci-apres):\n",
    "1. Fonction d'activation\n",
    "2. Fonction d'erreur\n",
    "3. Méthode d'optimisation\n",
    "4. Le type de couche\n",
    "5. L'apprentissage (backpropagation)\n",
    "\n",
    "On a donc défini des sous-packages pour chaque element. Voici l'architecture global du package (UTTnet)."
   ]
  },
  {
   "cell_type": "code",
   "execution_count": null,
   "metadata": {
    "pycharm": {
     "is_executing": true
    }
   },
   "outputs": [],
   "source": [
    "sd.seedir('./UTTnet', exclude_folders=['__pycache__'], style='emoji')"
   ]
  },
  {
   "cell_type": "markdown",
   "metadata": {},
   "source": [
    "Chaque sous-package fonctionne sur le même principe. Pour comprendre comment fonctionne le package UTTnet il faut comprendre comment fonctionne le patron de conception statregie dont voici le diagramme UML.\n",
    "\n",
    "![Strategy](./img/Strategy_Pattern_in_UML.png)\n",
    "\n",
    "Ce patron de conception permet de garantir la modularité du code en permettant l'implementation de nouveaux types d'objets tant qu'ils respectent certaines conditions (heritage une interface).\n",
    "\n",
    "Dans le cas de ce package, nous avons adapté le patron de conception pour qu'il réponde à nos besoins. Nous allons parcourir les sous-packages dans l'odre pour expliquer leurs fonctionnement et leurs buts:\n",
    "\n",
    "1. Metric: Ce sous-packages contient les classes pour implemnter à la fois les fonction d'erreurs et les metriques d'évaluation.\n",
    "\n",
    "![Metric](./img/uttnet-metric.png)\n",
    "\n",
    "2. Activation: Ce sous-package contient les classes necessaires pour implemnter différentes fonctions d'activations. Les classes sont utilisées à la fois pour la forward et la backward pass.\n",
    "\n",
    "![Activation](./img/uttnet-Activation.png)\n",
    "\n",
    "3. Layer: Ce sous-package contient l'ensemble des classes pour implementer différents types de couches. \n",
    "\n",
    "![Layer](./img/uttnet-Layer.png)\n",
    "\n",
    "4. Optimizer: Ce sous-package contient les classes permettant de réaliser l'optimisation des poids des couches selon différentes méthodes.\n",
    "\n",
    "![Optimizer](./img/uttnet-optim.png)\n",
    "\n",
    "\n",
    "Maintenant que l'on a défini l'ensemble des sous packages, on peut representer la classe Network qui rassemble l'ensemble des classes vues précedement pour pouvoir implementer un réseau de neurones complet.\n",
    "\n",
    "![Network](./img/uttnet-Network.png)\n",
    "\n",
    "Il suffit d'instancier la classe Network puis de ajouter des couches avec la méthode add pour définir un réseau de neurones. Voici un exemple simple de réseau de neurones utilisant ce package en modelisant un xor. On commence par tester sur un probleme xor, car c'est un probleme tres simple et cela permet de vérifier que le package fonctionne bien."
   ]
  },
  {
   "cell_type": "code",
   "execution_count": null,
   "metadata": {
    "pycharm": {
     "is_executing": true
    }
   },
   "outputs": [],
   "source": [
    "from UTTnet import Network\n",
    "from UTTnet.Activation import Tanh\n",
    "from UTTnet.Metric import Mse\n",
    "from UTTnet.Layer import Dense\n",
    "from UTTnet.Optimizer import SGD\n",
    "\n",
    "# We are going to test out module on a xor problem\n",
    "\n",
    "x_train = np.array([[0, 0], [0, 1], [1, 0], [1, 1]])\n",
    "y_train = np.array([[[0]], [[1]], [[1]], [[0]]])\n",
    "\n",
    "# Define the network\n",
    "# Loss function is Mean Squared Error\n",
    "# Optimizer is Stochastic Gradient Descent\n",
    "model = Network(\n",
    "    loss=Mse(),\n",
    "    optimizer=SGD(learning_rate=0.1)\n",
    ")\n",
    "\n",
    "# Add two layers\n",
    "# First layer 2 input and 3 output using tanh activation function and bias is set to true\n",
    "model.add(Dense(2, 3, activation=Tanh()))\n",
    "# Second layer 3 input and 1 output using tanh activation function and bias is set to true\n",
    "model.add(Dense(3, 1, activation=Tanh()))\n",
    "\n",
    "# Print the model\n",
    "print(model)\n",
    "\n",
    "# Train the model\n",
    "loss = model.fit(x_train, y_train, epochs=1000)\n",
    "# test the model on\n",
    "out = model(x_train)\n",
    "print(out)"
   ]
  }
 ],
 "metadata": {
  "kernelspec": {
   "display_name": "Python 3 (ipykernel)",
   "language": "python",
   "name": "python3"
  },
  "language_info": {
   "codemirror_mode": {
    "name": "ipython",
    "version": 3
   },
   "file_extension": ".py",
   "mimetype": "text/x-python",
   "name": "python",
   "nbconvert_exporter": "python",
   "pygments_lexer": "ipython3",
   "version": "3.10.2"
  }
 },
 "nbformat": 4,
 "nbformat_minor": 1
}
